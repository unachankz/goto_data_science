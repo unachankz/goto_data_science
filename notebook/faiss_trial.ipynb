{
  "nbformat": 4,
  "nbformat_minor": 0,
  "metadata": {
    "colab": {
      "name": "faiss.ipynb",
      "provenance": [],
      "collapsed_sections": [],
      "authorship_tag": "ABX9TyNKmFiQEOCHKhIVOaOz7bLM",
      "include_colab_link": true
    },
    "kernelspec": {
      "name": "python3",
      "display_name": "Python 3"
    },
    "language_info": {
      "name": "python"
    },
    "accelerator": "GPU"
  },
  "cells": [
    {
      "cell_type": "markdown",
      "metadata": {
        "id": "view-in-github",
        "colab_type": "text"
      },
      "source": [
        "<a href=\"https://colab.research.google.com/github/unachankz/goto_data_science/blob/master/notebook/faiss_trial.ipynb\" target=\"_parent\"><img src=\"https://colab.research.google.com/assets/colab-badge.svg\" alt=\"Open In Colab\"/></a>"
      ]
    },
    {
      "cell_type": "code",
      "metadata": {
        "id": "J-4CitdlOeHT"
      },
      "source": [
        "import numpy as np\n",
        "\n",
        "# 乱数の固定\n",
        "np.random.seed(1234)             # make reproducible\n",
        "\n",
        "# データベース（探索先）の作成（64次元10万エントリ）\n",
        "d = 64                           # dimension\n",
        "nb = 100000                      # database size\n",
        "xb = np.random.random((nb, d)).astype('float32')\n",
        "xb[:, 0] += np.arange(nb) / 1000."
      ],
      "execution_count": 1,
      "outputs": []
    },
    {
      "cell_type": "code",
      "metadata": {
        "id": "lVZGVDcoOgYM"
      },
      "source": [
        "# クエリベクトル群の作成(64次元1万クエリ)\n",
        "nq = 10000                       # nb of queries\n",
        "xq = np.random.random((nq, d)).astype('float32')\n",
        "xq[:, 0] += np.arange(nq) / 1000.\n"
      ],
      "execution_count": 2,
      "outputs": []
    },
    {
      "cell_type": "code",
      "metadata": {
        "colab": {
          "base_uri": "https://localhost:8080/"
        },
        "id": "4KjeTAAYOmsK",
        "outputId": "30f04ab3-80c2-44bb-9640-ebbb7a41627e"
      },
      "source": [
        "# ライブラリのインポート\n",
        "!apt install libomp-dev\n",
        "!python -m pip install --upgrade faiss faiss-cpu\n",
        "import faiss"
      ],
      "execution_count": 3,
      "outputs": [
        {
          "output_type": "stream",
          "name": "stdout",
          "text": [
            "Reading package lists... Done\n",
            "Building dependency tree       \n",
            "Reading state information... Done\n",
            "libomp-dev is already the newest version (5.0.1-1).\n",
            "0 upgraded, 0 newly installed, 0 to remove and 37 not upgraded.\n",
            "Requirement already satisfied: faiss in /usr/local/lib/python3.7/dist-packages (1.5.3)\n",
            "Requirement already satisfied: faiss-cpu in /usr/local/lib/python3.7/dist-packages (1.7.1.post2)\n",
            "Requirement already satisfied: numpy in /usr/local/lib/python3.7/dist-packages (from faiss) (1.19.5)\n"
          ]
        }
      ]
    },
    {
      "cell_type": "code",
      "metadata": {
        "colab": {
          "base_uri": "https://localhost:8080/"
        },
        "id": "kHPJyY60P-aQ",
        "outputId": "6ecd92e8-72a9-4aac-957c-7317a62d59dc"
      },
      "source": [
        "d"
      ],
      "execution_count": 4,
      "outputs": [
        {
          "output_type": "execute_result",
          "data": {
            "text/plain": [
              "64"
            ]
          },
          "metadata": {},
          "execution_count": 4
        }
      ]
    },
    {
      "cell_type": "code",
      "metadata": {
        "id": "_5LKmFAfPATv"
      },
      "source": [
        "nlist = 100\n",
        "m = 8\n",
        "k = 4\n",
        "\n",
        "quantizer = faiss.IndexFlatL2(d)  # this remains the same"
      ],
      "execution_count": 5,
      "outputs": []
    },
    {
      "cell_type": "code",
      "metadata": {
        "colab": {
          "base_uri": "https://localhost:8080/"
        },
        "id": "5VNiutMQQBMs",
        "outputId": "a4f60079-2c42-4cb5-d4e4-d2c9584682a6"
      },
      "source": [
        "quantizer"
      ],
      "execution_count": 6,
      "outputs": [
        {
          "output_type": "execute_result",
          "data": {
            "text/plain": [
              "<faiss.swigfaiss.IndexFlatL2; proxy of <Swig Object of type 'faiss::IndexFlatL2 *' at 0x7f4480870450> >"
            ]
          },
          "metadata": {},
          "execution_count": 6
        }
      ]
    },
    {
      "cell_type": "code",
      "metadata": {
        "id": "z6oGAfA-PuaZ"
      },
      "source": [
        "# モデルの作成？\n",
        "# 引数はそれぞれ量子化対象のインデックス、データの次元数、転置インデックスのリストサイズ、サブベクトル数、サブベクトルの量子化ビット数を表す\n",
        "index = faiss.IndexIVFPQ(quantizer, d, nlist, m, 8)\n",
        "                                  # 8 specifies that each sub-vector is encoded as 8 bits\n"
      ],
      "execution_count": 7,
      "outputs": []
    },
    {
      "cell_type": "code",
      "metadata": {
        "colab": {
          "base_uri": "https://localhost:8080/"
        },
        "id": "tn68PT0nQF4k",
        "outputId": "7733ab10-9efb-4fe2-f443-434e3672e21f"
      },
      "source": [
        "# ぽかチェック（とりあえずデータベースの最初の5エントリーに近いベクトルをk個探す）\n",
        "D, I = index.search(xb[:5], k) # sanity check\n",
        "# Iは検索したベクトルのインデックス、Dは検索したベクトルのユークリッド距離\n",
        "# もちろんIの各ベクトルの一要素目はベクトル自身が入る\n",
        "print(I)\n",
        "print(D)"
      ],
      "execution_count": 8,
      "outputs": [
        {
          "output_type": "stream",
          "name": "stdout",
          "text": [
            "[[-1 -1 -1 -1]\n",
            " [-1 -1 -1 -1]\n",
            " [-1 -1 -1 -1]\n",
            " [-1 -1 -1 -1]\n",
            " [-1 -1 -1 -1]]\n",
            "[[3.4028235e+38 3.4028235e+38 3.4028235e+38 3.4028235e+38]\n",
            " [3.4028235e+38 3.4028235e+38 3.4028235e+38 3.4028235e+38]\n",
            " [3.4028235e+38 3.4028235e+38 3.4028235e+38 3.4028235e+38]\n",
            " [3.4028235e+38 3.4028235e+38 3.4028235e+38 3.4028235e+38]\n",
            " [3.4028235e+38 3.4028235e+38 3.4028235e+38 3.4028235e+38]]\n"
          ]
        }
      ]
    },
    {
      "cell_type": "code",
      "metadata": {
        "id": "NlhRmCn4P3y1"
      },
      "source": [
        "# 実際に今回のクエリを検索にかける\n",
        "index.nprobe = 10              # make comparable with experiment above\n",
        "# D, I = index.search(xq, k)     # search\n",
        "\n",
        "# print(len(D))\n",
        "# print(len(I))"
      ],
      "execution_count": 9,
      "outputs": []
    },
    {
      "cell_type": "code",
      "metadata": {
        "id": "nVCiKeVtQlha"
      },
      "source": [
        "D, I = index.search(xq, k)     # search\n",
        "\n",
        "print(len(D))\n",
        "print(len(I))"
      ],
      "execution_count": null,
      "outputs": []
    }
  ]
}