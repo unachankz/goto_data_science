{
  "nbformat": 4,
  "nbformat_minor": 0,
  "metadata": {
    "colab": {
      "name": "datadownload.ipynb",
      "provenance": [],
      "collapsed_sections": [],
      "authorship_tag": "ABX9TyO40kSTBv3B9+jgGk2LGqi2",
      "include_colab_link": true
    },
    "kernelspec": {
      "name": "python3",
      "display_name": "Python 3"
    }
  },
  "cells": [
    {
      "cell_type": "markdown",
      "metadata": {
        "id": "view-in-github",
        "colab_type": "text"
      },
      "source": [
        "<a href=\"https://colab.research.google.com/github/unachankz/goto_data_science/blob/master/notebook/datadownload.ipynb\" target=\"_parent\"><img src=\"https://colab.research.google.com/assets/colab-badge.svg\" alt=\"Open In Colab\"/></a>"
      ]
    },
    {
      "cell_type": "markdown",
      "metadata": {
        "id": "aehTApmOcMTE"
      },
      "source": [
        "# Data Setup\n",
        "\n",
        "## Download ShanghaiTech Dataset\n",
        "\n",
        "I downloaded from kaggle.\n",
        "\n",
        "Please follow the steps below to download and use kaggle data within Google Colab:\n",
        "\n",
        "1. Go to your account, Scroll to API section and Click Expire API Token to remove previous tokens\n",
        "\n",
        "2. Click on Create New API Token - It will download kaggle.json file on your machine.\n",
        "\n",
        "3. Go to your Google Colab project file and run the following commands:\n",
        "\n",
        "1) ! pip install -q kaggle\n",
        "2) download data\n"
      ]
    },
    {
      "cell_type": "code",
      "metadata": {
        "colab": {
          "base_uri": "https://localhost:8080/"
        },
        "id": "n9PMZZTnaJLG",
        "outputId": "ef9cfd17-1661-4829-8c81-ee86d64fc640"
      },
      "source": [
        "! kaggle datasets download -d tthien/shanghaitech"
      ],
      "execution_count": 16,
      "outputs": [
        {
          "output_type": "stream",
          "text": [
            "Downloading shanghaitech.zip to /content/crowdcount-cascaded-mtl\n",
            " 95% 315M/333M [00:03<00:00, 137MB/s]\n",
            "100% 333M/333M [00:03<00:00, 96.2MB/s]\n"
          ],
          "name": "stdout"
        }
      ]
    },
    {
      "cell_type": "markdown",
      "metadata": {
        "id": "xZM1gN5Fscy_"
      },
      "source": [
        "# 参考\n",
        "\n",
        "https://www.kaggle.com/general/74235"
      ]
    }
  ]
}