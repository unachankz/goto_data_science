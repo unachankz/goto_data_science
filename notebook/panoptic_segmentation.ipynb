{
  "nbformat": 4,
  "nbformat_minor": 0,
  "metadata": {
    "colab": {
      "name": "panoptic_segmentation.ipynb",
      "provenance": [],
      "collapsed_sections": [],
      "toc_visible": true,
      "authorship_tag": "ABX9TyNn8U4wX5ZSRrvYRjsDJ25h",
      "include_colab_link": true
    },
    "kernelspec": {
      "name": "python3",
      "display_name": "Python 3"
    },
    "accelerator": "GPU"
  },
  "cells": [
    {
      "cell_type": "markdown",
      "metadata": {
        "id": "view-in-github",
        "colab_type": "text"
      },
      "source": [
        "<a href=\"https://colab.research.google.com/github/unachankz/goto_data_science/blob/master/panoptic_segmentation.ipynb\" target=\"_parent\"><img src=\"https://colab.research.google.com/assets/colab-badge.svg\" alt=\"Open In Colab\"/></a>"
      ]
    },
    {
      "cell_type": "markdown",
      "metadata": {
        "id": "hHB-0EUEUV_i"
      },
      "source": [
        "# コードについて\n",
        "このコードは、panoptic segmentationの実験を行うためのコードです。\n",
        "\n",
        "## 参考URL\n",
        "[Detectron2 Tutorial](https://colab.research.google.com/drive/16jcaJoc6bCFAQ96jDe2HwtXj7BMD_-m5#scrollTo=vM54r6jlKTII)\n",
        "\n"
      ]
    },
    {
      "cell_type": "markdown",
      "metadata": {
        "id": "z01Se3qUUOm8"
      },
      "source": [
        "## Install detectron2"
      ]
    },
    {
      "cell_type": "code",
      "metadata": {
        "id": "IX04MdnaRiLr"
      },
      "source": [
        "# install dependencies: \n",
        "!pip install pyyaml==5.1\n",
        "import torch, torchvision\n",
        "print(torch.__version__, torch.cuda.is_available())\n",
        "!gcc --version\n",
        "# opencv is pre-installed on colab"
      ],
      "execution_count": null,
      "outputs": []
    },
    {
      "cell_type": "code",
      "metadata": {
        "id": "Lrq13GTXRp51"
      },
      "source": [
        "# install detectron2: (Colab has CUDA 10.1 + torch 1.7)\n",
        "# See https://detectron2.readthedocs.io/tutorials/install.html for instructions\n",
        "import torch\n",
        "assert torch.__version__.startswith(\"1.7\")\n",
        "!pip install detectron2 -f https://dl.fbaipublicfiles.com/detectron2/wheels/cu101/torch1.7/index.html\n",
        "# exit(0)  # After installation, you need to \"restart runtime\" in Colab. This line can also restart runtime"
      ],
      "execution_count": null,
      "outputs": []
    },
    {
      "cell_type": "code",
      "metadata": {
        "id": "hUhlRRSBXv19"
      },
      "source": [
        "# Some basic setup:\n",
        "# Setup detectron2 logger\n",
        "import detectron2\n",
        "from detectron2.utils.logger import setup_logger\n",
        "setup_logger()\n",
        "\n",
        "# import some common libraries\n",
        "import numpy as np\n",
        "import os, json, cv2, random\n",
        "from google.colab.patches import cv2_imshow\n",
        "\n",
        "# import some common detectron2 utilities\n",
        "from detectron2 import model_zoo\n",
        "from detectron2.engine import DefaultPredictor\n",
        "from detectron2.config import get_cfg\n",
        "from detectron2.utils.visualizer import Visualizer\n",
        "from detectron2.data import MetadataCatalog, DatasetCatalog"
      ],
      "execution_count": null,
      "outputs": []
    },
    {
      "cell_type": "markdown",
      "metadata": {
        "id": "zdnsByVoTClp"
      },
      "source": [
        "# Run panoptic segmentation on a video\n",
        "\n",
        "## Panoptic segmentation\n",
        "- Panoptic segmentationは、Semantic Segmentation と Instance Segmentation を足し合わせたようなタスク。\n",
        "- 入力は画像で、出力には Semantic Segmentation のように、全てのピクセルにラベルが振られ、かつ数えられる物体に関しては、個別で認識した結果が返される。\n",
        "\n",
        "- 数えられるクラス（車や人）を Thing クラスといい、数えられないクラス（空や道）を Stuff クラスといいます。Thing クラスに対して Instance Segmentation、Stuff クラスに対してSemantic Segmentation を行うタスク。\n",
        "\n",
        "## 参考\n",
        "[論文](https://openaccess.thecvf.com/content_CVPR_2019/papers/Kirillov_Panoptic_Segmentation_CVPR_2019_paper.pdf)\n",
        "\n",
        "[コンピュータビジョンの最新論文調査](https://engineer.dena.com/posts/2019.08/cv-papers-19-segmentation/)\n",
        "\n"
      ]
    },
    {
      "cell_type": "code",
      "metadata": {
        "colab": {
          "base_uri": "https://localhost:8080/"
        },
        "id": "F8eX4N8mSvUK",
        "outputId": "a3f28fa3-9659-4032-e9f8-9394226415c7"
      },
      "source": [
        "# Install dependencies, download the video, and crop 5 seconds for processing\n",
        "!pip install youtube-dl\n",
        "!pip uninstall -y opencv-python-headless opencv-contrib-python\n",
        "!apt install python3-opencv  # the one pre-installed have some issues\n",
        "\n"
      ],
      "execution_count": null,
      "outputs": [
        {
          "output_type": "stream",
          "text": [
            "Collecting youtube-dl\n",
            "\u001b[?25l  Downloading https://files.pythonhosted.org/packages/a5/9e/41c2b27e5ef6b28caacdfea46ad84c47f836e3a5034e3a48ee9050c10761/youtube_dl-2021.1.24.1-py2.py3-none-any.whl (1.9MB)\n",
            "\r\u001b[K     |▏                               | 10kB 18.5MB/s eta 0:00:01\r\u001b[K     |▍                               | 20kB 26.7MB/s eta 0:00:01\r\u001b[K     |▌                               | 30kB 29.5MB/s eta 0:00:01\r\u001b[K     |▊                               | 40kB 24.7MB/s eta 0:00:01\r\u001b[K     |▉                               | 51kB 26.1MB/s eta 0:00:01\r\u001b[K     |█                               | 61kB 21.4MB/s eta 0:00:01\r\u001b[K     |█▎                              | 71kB 21.7MB/s eta 0:00:01\r\u001b[K     |█▍                              | 81kB 21.5MB/s eta 0:00:01\r\u001b[K     |█▋                              | 92kB 18.2MB/s eta 0:00:01\r\u001b[K     |█▊                              | 102kB 19.6MB/s eta 0:00:01\r\u001b[K     |██                              | 112kB 19.6MB/s eta 0:00:01\r\u001b[K     |██                              | 122kB 19.6MB/s eta 0:00:01\r\u001b[K     |██▎                             | 133kB 19.6MB/s eta 0:00:01\r\u001b[K     |██▌                             | 143kB 19.6MB/s eta 0:00:01\r\u001b[K     |██▋                             | 153kB 19.6MB/s eta 0:00:01\r\u001b[K     |██▉                             | 163kB 19.6MB/s eta 0:00:01\r\u001b[K     |███                             | 174kB 19.6MB/s eta 0:00:01\r\u001b[K     |███▏                            | 184kB 19.6MB/s eta 0:00:01\r\u001b[K     |███▎                            | 194kB 19.6MB/s eta 0:00:01\r\u001b[K     |███▌                            | 204kB 19.6MB/s eta 0:00:01\r\u001b[K     |███▊                            | 215kB 19.6MB/s eta 0:00:01\r\u001b[K     |███▉                            | 225kB 19.6MB/s eta 0:00:01\r\u001b[K     |████                            | 235kB 19.6MB/s eta 0:00:01\r\u001b[K     |████▏                           | 245kB 19.6MB/s eta 0:00:01\r\u001b[K     |████▍                           | 256kB 19.6MB/s eta 0:00:01\r\u001b[K     |████▌                           | 266kB 19.6MB/s eta 0:00:01\r\u001b[K     |████▊                           | 276kB 19.6MB/s eta 0:00:01\r\u001b[K     |█████                           | 286kB 19.6MB/s eta 0:00:01\r\u001b[K     |█████                           | 296kB 19.6MB/s eta 0:00:01\r\u001b[K     |█████▎                          | 307kB 19.6MB/s eta 0:00:01\r\u001b[K     |█████▍                          | 317kB 19.6MB/s eta 0:00:01\r\u001b[K     |█████▋                          | 327kB 19.6MB/s eta 0:00:01\r\u001b[K     |█████▊                          | 337kB 19.6MB/s eta 0:00:01\r\u001b[K     |██████                          | 348kB 19.6MB/s eta 0:00:01\r\u001b[K     |██████▏                         | 358kB 19.6MB/s eta 0:00:01\r\u001b[K     |██████▎                         | 368kB 19.6MB/s eta 0:00:01\r\u001b[K     |██████▌                         | 378kB 19.6MB/s eta 0:00:01\r\u001b[K     |██████▋                         | 389kB 19.6MB/s eta 0:00:01\r\u001b[K     |██████▉                         | 399kB 19.6MB/s eta 0:00:01\r\u001b[K     |███████                         | 409kB 19.6MB/s eta 0:00:01\r\u001b[K     |███████▏                        | 419kB 19.6MB/s eta 0:00:01\r\u001b[K     |███████▍                        | 430kB 19.6MB/s eta 0:00:01\r\u001b[K     |███████▌                        | 440kB 19.6MB/s eta 0:00:01\r\u001b[K     |███████▊                        | 450kB 19.6MB/s eta 0:00:01\r\u001b[K     |███████▉                        | 460kB 19.6MB/s eta 0:00:01\r\u001b[K     |████████                        | 471kB 19.6MB/s eta 0:00:01\r\u001b[K     |████████▏                       | 481kB 19.6MB/s eta 0:00:01\r\u001b[K     |████████▍                       | 491kB 19.6MB/s eta 0:00:01\r\u001b[K     |████████▋                       | 501kB 19.6MB/s eta 0:00:01\r\u001b[K     |████████▊                       | 512kB 19.6MB/s eta 0:00:01\r\u001b[K     |█████████                       | 522kB 19.6MB/s eta 0:00:01\r\u001b[K     |█████████                       | 532kB 19.6MB/s eta 0:00:01\r\u001b[K     |█████████▎                      | 542kB 19.6MB/s eta 0:00:01\r\u001b[K     |█████████▍                      | 552kB 19.6MB/s eta 0:00:01\r\u001b[K     |█████████▋                      | 563kB 19.6MB/s eta 0:00:01\r\u001b[K     |█████████▉                      | 573kB 19.6MB/s eta 0:00:01\r\u001b[K     |██████████                      | 583kB 19.6MB/s eta 0:00:01\r\u001b[K     |██████████▏                     | 593kB 19.6MB/s eta 0:00:01\r\u001b[K     |██████████▎                     | 604kB 19.6MB/s eta 0:00:01\r\u001b[K     |██████████▌                     | 614kB 19.6MB/s eta 0:00:01\r\u001b[K     |██████████▋                     | 624kB 19.6MB/s eta 0:00:01\r\u001b[K     |██████████▉                     | 634kB 19.6MB/s eta 0:00:01\r\u001b[K     |███████████                     | 645kB 19.6MB/s eta 0:00:01\r\u001b[K     |███████████▏                    | 655kB 19.6MB/s eta 0:00:01\r\u001b[K     |███████████▍                    | 665kB 19.6MB/s eta 0:00:01\r\u001b[K     |███████████▌                    | 675kB 19.6MB/s eta 0:00:01\r\u001b[K     |███████████▊                    | 686kB 19.6MB/s eta 0:00:01\r\u001b[K     |███████████▉                    | 696kB 19.6MB/s eta 0:00:01\r\u001b[K     |████████████                    | 706kB 19.6MB/s eta 0:00:01\r\u001b[K     |████████████▎                   | 716kB 19.6MB/s eta 0:00:01\r\u001b[K     |████████████▍                   | 727kB 19.6MB/s eta 0:00:01\r\u001b[K     |████████████▋                   | 737kB 19.6MB/s eta 0:00:01\r\u001b[K     |████████████▊                   | 747kB 19.6MB/s eta 0:00:01\r\u001b[K     |█████████████                   | 757kB 19.6MB/s eta 0:00:01\r\u001b[K     |█████████████                   | 768kB 19.6MB/s eta 0:00:01\r\u001b[K     |█████████████▎                  | 778kB 19.6MB/s eta 0:00:01\r\u001b[K     |█████████████▌                  | 788kB 19.6MB/s eta 0:00:01\r\u001b[K     |█████████████▋                  | 798kB 19.6MB/s eta 0:00:01\r\u001b[K     |█████████████▉                  | 808kB 19.6MB/s eta 0:00:01\r\u001b[K     |██████████████                  | 819kB 19.6MB/s eta 0:00:01\r\u001b[K     |██████████████▏                 | 829kB 19.6MB/s eta 0:00:01\r\u001b[K     |██████████████▎                 | 839kB 19.6MB/s eta 0:00:01\r\u001b[K     |██████████████▌                 | 849kB 19.6MB/s eta 0:00:01\r\u001b[K     |██████████████▊                 | 860kB 19.6MB/s eta 0:00:01\r\u001b[K     |██████████████▉                 | 870kB 19.6MB/s eta 0:00:01\r\u001b[K     |███████████████                 | 880kB 19.6MB/s eta 0:00:01\r\u001b[K     |███████████████▏                | 890kB 19.6MB/s eta 0:00:01\r\u001b[K     |███████████████▍                | 901kB 19.6MB/s eta 0:00:01\r\u001b[K     |███████████████▌                | 911kB 19.6MB/s eta 0:00:01\r\u001b[K     |███████████████▊                | 921kB 19.6MB/s eta 0:00:01\r\u001b[K     |████████████████                | 931kB 19.6MB/s eta 0:00:01\r\u001b[K     |████████████████                | 942kB 19.6MB/s eta 0:00:01\r\u001b[K     |████████████████▎               | 952kB 19.6MB/s eta 0:00:01\r\u001b[K     |████████████████▍               | 962kB 19.6MB/s eta 0:00:01\r\u001b[K     |████████████████▋               | 972kB 19.6MB/s eta 0:00:01\r\u001b[K     |████████████████▊               | 983kB 19.6MB/s eta 0:00:01\r\u001b[K     |█████████████████               | 993kB 19.6MB/s eta 0:00:01\r\u001b[K     |█████████████████▏              | 1.0MB 19.6MB/s eta 0:00:01\r\u001b[K     |█████████████████▎              | 1.0MB 19.6MB/s eta 0:00:01\r\u001b[K     |█████████████████▌              | 1.0MB 19.6MB/s eta 0:00:01\r\u001b[K     |█████████████████▋              | 1.0MB 19.6MB/s eta 0:00:01\r\u001b[K     |█████████████████▉              | 1.0MB 19.6MB/s eta 0:00:01\r\u001b[K     |██████████████████              | 1.1MB 19.6MB/s eta 0:00:01\r\u001b[K     |██████████████████▏             | 1.1MB 19.6MB/s eta 0:00:01\r\u001b[K     |██████████████████▍             | 1.1MB 19.6MB/s eta 0:00:01\r\u001b[K     |██████████████████▌             | 1.1MB 19.6MB/s eta 0:00:01\r\u001b[K     |██████████████████▊             | 1.1MB 19.6MB/s eta 0:00:01\r\u001b[K     |██████████████████▉             | 1.1MB 19.6MB/s eta 0:00:01\r\u001b[K     |███████████████████             | 1.1MB 19.6MB/s eta 0:00:01\r\u001b[K     |███████████████████▏            | 1.1MB 19.6MB/s eta 0:00:01\r\u001b[K     |███████████████████▍            | 1.1MB 19.6MB/s eta 0:00:01\r\u001b[K     |███████████████████▋            | 1.1MB 19.6MB/s eta 0:00:01\r\u001b[K     |███████████████████▊            | 1.2MB 19.6MB/s eta 0:00:01\r\u001b[K     |████████████████████            | 1.2MB 19.6MB/s eta 0:00:01\r\u001b[K     |████████████████████            | 1.2MB 19.6MB/s eta 0:00:01\r\u001b[K     |████████████████████▎           | 1.2MB 19.6MB/s eta 0:00:01\r\u001b[K     |████████████████████▍           | 1.2MB 19.6MB/s eta 0:00:01\r\u001b[K     |████████████████████▋           | 1.2MB 19.6MB/s eta 0:00:01\r\u001b[K     |████████████████████▉           | 1.2MB 19.6MB/s eta 0:00:01\r\u001b[K     |█████████████████████           | 1.2MB 19.6MB/s eta 0:00:01\r\u001b[K     |█████████████████████▏          | 1.2MB 19.6MB/s eta 0:00:01\r\u001b[K     |█████████████████████▎          | 1.2MB 19.6MB/s eta 0:00:01\r\u001b[K     |█████████████████████▌          | 1.3MB 19.6MB/s eta 0:00:01\r\u001b[K     |█████████████████████▋          | 1.3MB 19.6MB/s eta 0:00:01\r\u001b[K     |█████████████████████▉          | 1.3MB 19.6MB/s eta 0:00:01\r\u001b[K     |██████████████████████          | 1.3MB 19.6MB/s eta 0:00:01\r\u001b[K     |██████████████████████▏         | 1.3MB 19.6MB/s eta 0:00:01\r\u001b[K     |██████████████████████▍         | 1.3MB 19.6MB/s eta 0:00:01\r\u001b[K     |██████████████████████▌         | 1.3MB 19.6MB/s eta 0:00:01\r\u001b[K     |██████████████████████▊         | 1.3MB 19.6MB/s eta 0:00:01\r\u001b[K     |██████████████████████▉         | 1.3MB 19.6MB/s eta 0:00:01\r\u001b[K     |███████████████████████         | 1.4MB 19.6MB/s eta 0:00:01\r\u001b[K     |███████████████████████▎        | 1.4MB 19.6MB/s eta 0:00:01\r\u001b[K     |███████████████████████▍        | 1.4MB 19.6MB/s eta 0:00:01\r\u001b[K     |███████████████████████▋        | 1.4MB 19.6MB/s eta 0:00:01\r\u001b[K     |███████████████████████▊        | 1.4MB 19.6MB/s eta 0:00:01\r\u001b[K     |████████████████████████        | 1.4MB 19.6MB/s eta 0:00:01\r\u001b[K     |████████████████████████        | 1.4MB 19.6MB/s eta 0:00:01\r\u001b[K     |████████████████████████▎       | 1.4MB 19.6MB/s eta 0:00:01\r\u001b[K     |████████████████████████▌       | 1.4MB 19.6MB/s eta 0:00:01\r\u001b[K     |████████████████████████▋       | 1.4MB 19.6MB/s eta 0:00:01\r\u001b[K     |████████████████████████▉       | 1.5MB 19.6MB/s eta 0:00:01\r\u001b[K     |█████████████████████████       | 1.5MB 19.6MB/s eta 0:00:01\r\u001b[K     |█████████████████████████▏      | 1.5MB 19.6MB/s eta 0:00:01\r\u001b[K     |█████████████████████████▎      | 1.5MB 19.6MB/s eta 0:00:01\r\u001b[K     |█████████████████████████▌      | 1.5MB 19.6MB/s eta 0:00:01\r\u001b[K     |█████████████████████████▊      | 1.5MB 19.6MB/s eta 0:00:01\r\u001b[K     |█████████████████████████▉      | 1.5MB 19.6MB/s eta 0:00:01\r\u001b[K     |██████████████████████████      | 1.5MB 19.6MB/s eta 0:00:01\r\u001b[K     |██████████████████████████▏     | 1.5MB 19.6MB/s eta 0:00:01\r\u001b[K     |██████████████████████████▍     | 1.5MB 19.6MB/s eta 0:00:01\r\u001b[K     |██████████████████████████▌     | 1.6MB 19.6MB/s eta 0:00:01\r\u001b[K     |██████████████████████████▊     | 1.6MB 19.6MB/s eta 0:00:01\r\u001b[K     |███████████████████████████     | 1.6MB 19.6MB/s eta 0:00:01\r\u001b[K     |███████████████████████████     | 1.6MB 19.6MB/s eta 0:00:01\r\u001b[K     |███████████████████████████▎    | 1.6MB 19.6MB/s eta 0:00:01\r\u001b[K     |███████████████████████████▍    | 1.6MB 19.6MB/s eta 0:00:01\r\u001b[K     |███████████████████████████▋    | 1.6MB 19.6MB/s eta 0:00:01\r\u001b[K     |███████████████████████████▊    | 1.6MB 19.6MB/s eta 0:00:01\r\u001b[K     |████████████████████████████    | 1.6MB 19.6MB/s eta 0:00:01\r\u001b[K     |████████████████████████████▏   | 1.6MB 19.6MB/s eta 0:00:01\r\u001b[K     |████████████████████████████▎   | 1.7MB 19.6MB/s eta 0:00:01\r\u001b[K     |████████████████████████████▌   | 1.7MB 19.6MB/s eta 0:00:01\r\u001b[K     |████████████████████████████▋   | 1.7MB 19.6MB/s eta 0:00:01\r\u001b[K     |████████████████████████████▉   | 1.7MB 19.6MB/s eta 0:00:01\r\u001b[K     |█████████████████████████████   | 1.7MB 19.6MB/s eta 0:00:01\r\u001b[K     |█████████████████████████████▏  | 1.7MB 19.6MB/s eta 0:00:01\r\u001b[K     |█████████████████████████████▍  | 1.7MB 19.6MB/s eta 0:00:01\r\u001b[K     |█████████████████████████████▌  | 1.7MB 19.6MB/s eta 0:00:01\r\u001b[K     |█████████████████████████████▊  | 1.7MB 19.6MB/s eta 0:00:01\r\u001b[K     |█████████████████████████████▉  | 1.8MB 19.6MB/s eta 0:00:01\r\u001b[K     |██████████████████████████████  | 1.8MB 19.6MB/s eta 0:00:01\r\u001b[K     |██████████████████████████████▏ | 1.8MB 19.6MB/s eta 0:00:01\r\u001b[K     |██████████████████████████████▍ | 1.8MB 19.6MB/s eta 0:00:01\r\u001b[K     |██████████████████████████████▋ | 1.8MB 19.6MB/s eta 0:00:01\r\u001b[K     |██████████████████████████████▊ | 1.8MB 19.6MB/s eta 0:00:01\r\u001b[K     |███████████████████████████████ | 1.8MB 19.6MB/s eta 0:00:01\r\u001b[K     |███████████████████████████████ | 1.8MB 19.6MB/s eta 0:00:01\r\u001b[K     |███████████████████████████████▎| 1.8MB 19.6MB/s eta 0:00:01\r\u001b[K     |███████████████████████████████▍| 1.8MB 19.6MB/s eta 0:00:01\r\u001b[K     |███████████████████████████████▋| 1.9MB 19.6MB/s eta 0:00:01\r\u001b[K     |███████████████████████████████▉| 1.9MB 19.6MB/s eta 0:00:01\r\u001b[K     |████████████████████████████████| 1.9MB 19.6MB/s eta 0:00:01\r\u001b[K     |████████████████████████████████| 1.9MB 19.6MB/s \n",
            "\u001b[?25hInstalling collected packages: youtube-dl\n",
            "Successfully installed youtube-dl-2021.1.24.1\n",
            "\u001b[33mWARNING: Skipping opencv-python-headless as it is not installed.\u001b[0m\n",
            "Uninstalling opencv-contrib-python-4.1.2.30:\n",
            "  Successfully uninstalled opencv-contrib-python-4.1.2.30\n",
            "Reading package lists... Done\n",
            "Building dependency tree       \n",
            "Reading state information... Done\n",
            "The following NEW packages will be installed:\n",
            "  python3-opencv\n",
            "0 upgraded, 1 newly installed, 0 to remove and 13 not upgraded.\n",
            "Need to get 534 kB of archives.\n",
            "After this operation, 2,941 kB of additional disk space will be used.\n",
            "Get:1 http://archive.ubuntu.com/ubuntu bionic-updates/universe amd64 python3-opencv amd64 3.2.0+dfsg-4ubuntu0.1 [534 kB]\n",
            "Fetched 534 kB in 1s (807 kB/s)\n",
            "Selecting previously unselected package python3-opencv.\n",
            "(Reading database ... 146374 files and directories currently installed.)\n",
            "Preparing to unpack .../python3-opencv_3.2.0+dfsg-4ubuntu0.1_amd64.deb ...\n",
            "Unpacking python3-opencv (3.2.0+dfsg-4ubuntu0.1) ...\n",
            "Setting up python3-opencv (3.2.0+dfsg-4ubuntu0.1) ...\n",
            "ffmpeg version 3.4.8-0ubuntu0.2 Copyright (c) 2000-2020 the FFmpeg developers\n",
            "  built with gcc 7 (Ubuntu 7.5.0-3ubuntu1~18.04)\n",
            "  configuration: --prefix=/usr --extra-version=0ubuntu0.2 --toolchain=hardened --libdir=/usr/lib/x86_64-linux-gnu --incdir=/usr/include/x86_64-linux-gnu --enable-gpl --disable-stripping --enable-avresample --enable-avisynth --enable-gnutls --enable-ladspa --enable-libass --enable-libbluray --enable-libbs2b --enable-libcaca --enable-libcdio --enable-libflite --enable-libfontconfig --enable-libfreetype --enable-libfribidi --enable-libgme --enable-libgsm --enable-libmp3lame --enable-libmysofa --enable-libopenjpeg --enable-libopenmpt --enable-libopus --enable-libpulse --enable-librubberband --enable-librsvg --enable-libshine --enable-libsnappy --enable-libsoxr --enable-libspeex --enable-libssh --enable-libtheora --enable-libtwolame --enable-libvorbis --enable-libvpx --enable-libwavpack --enable-libwebp --enable-libx265 --enable-libxml2 --enable-libxvid --enable-libzmq --enable-libzvbi --enable-omx --enable-openal --enable-opengl --enable-sdl2 --enable-libdc1394 --enable-libdrm --enable-libiec61883 --enable-chromaprint --enable-frei0r --enable-libopencv --enable-libx264 --enable-shared\n",
            "  libavutil      55. 78.100 / 55. 78.100\n",
            "  libavcodec     57.107.100 / 57.107.100\n",
            "  libavformat    57. 83.100 / 57. 83.100\n",
            "  libavdevice    57. 10.100 / 57. 10.100\n",
            "  libavfilter     6.107.100 /  6.107.100\n",
            "  libavresample   3.  7.  0 /  3.  7.  0\n",
            "  libswscale      4.  8.100 /  4.  8.100\n",
            "  libswresample   2.  9.100 /  2.  9.100\n",
            "  libpostproc    54.  7.100 / 54.  7.100\n",
            "Input #0, mov,mp4,m4a,3gp,3g2,mj2, from 'sample.MOV':\n",
            "  Metadata:\n",
            "    major_brand     : qt  \n",
            "    minor_version   : 0\n",
            "    compatible_brands: qt  \n",
            "    creation_time   : 2020-11-23T03:26:24.000000Z\n",
            "    com.apple.quicktime.make: Apple\n",
            "    com.apple.quicktime.model: iPhone 11\n",
            "    com.apple.quicktime.software: 14.2\n",
            "    com.apple.quicktime.creationdate: 2020-11-23T12:26:22+0900\n",
            "  Duration: 00:00:28.33, start: -0.001667, bitrate: 7994 kb/s\n",
            "    Stream #0:0(und): Video: hevc (Main) (hvc1 / 0x31637668), yuv420p(tv, bt709), 1920x1080, 7745 kb/s, 29.97 fps, 29.97 tbr, 600 tbn, 600 tbc (default)\n",
            "    Metadata:\n",
            "      creation_time   : 2020-11-23T03:26:24.000000Z\n",
            "      handler_name    : Core Media Data Handler\n",
            "      encoder         : HEVC\n",
            "    Stream #0:1(und): Audio: aac (LC) (mp4a / 0x6134706D), 44100 Hz, stereo, fltp, 181 kb/s (default)\n",
            "    Metadata:\n",
            "      creation_time   : 2020-11-23T03:26:24.000000Z\n",
            "      handler_name    : Core Media Data Handler\n",
            "    Stream #0:2(und): Data: none (mebx / 0x7862656D), 0 kb/s (default)\n",
            "    Metadata:\n",
            "      creation_time   : 2020-11-23T03:26:24.000000Z\n",
            "      handler_name    : Core Media Data Handler\n",
            "    Stream #0:3(und): Data: none (mebx / 0x7862656D), 0 kb/s (default)\n",
            "    Metadata:\n",
            "      creation_time   : 2020-11-23T03:26:24.000000Z\n",
            "      handler_name    : Core Media Data Handler\n",
            "    Stream #0:4(und): Data: none (mebx / 0x7862656D), 50 kb/s (default)\n",
            "    Metadata:\n",
            "      creation_time   : 2020-11-23T03:26:24.000000Z\n",
            "      handler_name    : Core Media Data Handler\n",
            "File 'video-clip.mp4' already exists. Overwrite ? [y/N] n\n",
            "\u001b[4;31mNot overwriting - exiting\n",
            "\u001b[0m"
          ],
          "name": "stdout"
        }
      ]
    },
    {
      "cell_type": "markdown",
      "metadata": {
        "id": "c7QBQ8KzY-lc"
      },
      "source": [
        "## panoptic segmentationを行うための動画を処理する。\n",
        "panoptic segmentationを行いたい動画の処理をします。\n",
        "私の動画名は、sample.MOVです。"
      ]
    },
    {
      "cell_type": "code",
      "metadata": {
        "colab": {
          "base_uri": "https://localhost:8080/"
        },
        "id": "nv5UMT5iY88W",
        "outputId": "6002d1d0-bf11-4563-8b8a-6efd500aead5"
      },
      "source": [
        "!ffmpeg -i sample.MOV -t 00:00:06 -c:v copy video-clip.mp4"
      ],
      "execution_count": 44,
      "outputs": [
        {
          "output_type": "stream",
          "text": [
            "ffmpeg version 3.4.8-0ubuntu0.2 Copyright (c) 2000-2020 the FFmpeg developers\n",
            "  built with gcc 7 (Ubuntu 7.5.0-3ubuntu1~18.04)\n",
            "  configuration: --prefix=/usr --extra-version=0ubuntu0.2 --toolchain=hardened --libdir=/usr/lib/x86_64-linux-gnu --incdir=/usr/include/x86_64-linux-gnu --enable-gpl --disable-stripping --enable-avresample --enable-avisynth --enable-gnutls --enable-ladspa --enable-libass --enable-libbluray --enable-libbs2b --enable-libcaca --enable-libcdio --enable-libflite --enable-libfontconfig --enable-libfreetype --enable-libfribidi --enable-libgme --enable-libgsm --enable-libmp3lame --enable-libmysofa --enable-libopenjpeg --enable-libopenmpt --enable-libopus --enable-libpulse --enable-librubberband --enable-librsvg --enable-libshine --enable-libsnappy --enable-libsoxr --enable-libspeex --enable-libssh --enable-libtheora --enable-libtwolame --enable-libvorbis --enable-libvpx --enable-libwavpack --enable-libwebp --enable-libx265 --enable-libxml2 --enable-libxvid --enable-libzmq --enable-libzvbi --enable-omx --enable-openal --enable-opengl --enable-sdl2 --enable-libdc1394 --enable-libdrm --enable-libiec61883 --enable-chromaprint --enable-frei0r --enable-libopencv --enable-libx264 --enable-shared\n",
            "  libavutil      55. 78.100 / 55. 78.100\n",
            "  libavcodec     57.107.100 / 57.107.100\n",
            "  libavformat    57. 83.100 / 57. 83.100\n",
            "  libavdevice    57. 10.100 / 57. 10.100\n",
            "  libavfilter     6.107.100 /  6.107.100\n",
            "  libavresample   3.  7.  0 /  3.  7.  0\n",
            "  libswscale      4.  8.100 /  4.  8.100\n",
            "  libswresample   2.  9.100 /  2.  9.100\n",
            "  libpostproc    54.  7.100 / 54.  7.100\n",
            "Input #0, mov,mp4,m4a,3gp,3g2,mj2, from 'sample.MOV':\n",
            "  Metadata:\n",
            "    major_brand     : qt  \n",
            "    minor_version   : 0\n",
            "    compatible_brands: qt  \n",
            "    creation_time   : 2020-11-23T03:26:24.000000Z\n",
            "    com.apple.quicktime.make: Apple\n",
            "    com.apple.quicktime.model: iPhone 11\n",
            "    com.apple.quicktime.software: 14.2\n",
            "    com.apple.quicktime.creationdate: 2020-11-23T12:26:22+0900\n",
            "  Duration: 00:00:28.33, start: -0.001667, bitrate: 7994 kb/s\n",
            "    Stream #0:0(und): Video: hevc (Main) (hvc1 / 0x31637668), yuv420p(tv, bt709), 1920x1080, 7745 kb/s, 29.97 fps, 29.97 tbr, 600 tbn, 600 tbc (default)\n",
            "    Metadata:\n",
            "      creation_time   : 2020-11-23T03:26:24.000000Z\n",
            "      handler_name    : Core Media Data Handler\n",
            "      encoder         : HEVC\n",
            "    Stream #0:1(und): Audio: aac (LC) (mp4a / 0x6134706D), 44100 Hz, stereo, fltp, 181 kb/s (default)\n",
            "    Metadata:\n",
            "      creation_time   : 2020-11-23T03:26:24.000000Z\n",
            "      handler_name    : Core Media Data Handler\n",
            "    Stream #0:2(und): Data: none (mebx / 0x7862656D), 0 kb/s (default)\n",
            "    Metadata:\n",
            "      creation_time   : 2020-11-23T03:26:24.000000Z\n",
            "      handler_name    : Core Media Data Handler\n",
            "    Stream #0:3(und): Data: none (mebx / 0x7862656D), 0 kb/s (default)\n",
            "    Metadata:\n",
            "      creation_time   : 2020-11-23T03:26:24.000000Z\n",
            "      handler_name    : Core Media Data Handler\n",
            "    Stream #0:4(und): Data: none (mebx / 0x7862656D), 50 kb/s (default)\n",
            "    Metadata:\n",
            "      creation_time   : 2020-11-23T03:26:24.000000Z\n",
            "      handler_name    : Core Media Data Handler\n",
            "Stream mapping:\n",
            "  Stream #0:0 -> #0:0 (copy)\n",
            "  Stream #0:1 -> #0:1 (aac (native) -> aac (native))\n",
            "Press [q] to stop, [?] for help\n",
            "Output #0, mp4, to 'video-clip.mp4':\n",
            "  Metadata:\n",
            "    major_brand     : qt  \n",
            "    minor_version   : 0\n",
            "    compatible_brands: qt  \n",
            "    com.apple.quicktime.creationdate: 2020-11-23T12:26:22+0900\n",
            "    com.apple.quicktime.make: Apple\n",
            "    com.apple.quicktime.model: iPhone 11\n",
            "    com.apple.quicktime.software: 14.2\n",
            "    encoder         : Lavf57.83.100\n",
            "    Stream #0:0(und): Video: hevc (Main) (hvc1 / 0x31637668), yuv420p(tv, bt709), 1920x1080, q=2-31, 7745 kb/s, 29.97 fps, 29.97 tbr, 19200 tbn, 600 tbc (default)\n",
            "    Metadata:\n",
            "      creation_time   : 2020-11-23T03:26:24.000000Z\n",
            "      handler_name    : Core Media Data Handler\n",
            "      encoder         : HEVC\n",
            "    Stream #0:1(und): Audio: aac (LC) (mp4a / 0x6134706D), 44100 Hz, stereo, fltp, 128 kb/s (default)\n",
            "    Metadata:\n",
            "      creation_time   : 2020-11-23T03:26:24.000000Z\n",
            "      handler_name    : Core Media Data Handler\n",
            "      encoder         : Lavc57.107.100 aac\n",
            "frame=  182 fps=0.0 q=-1.0 Lsize=    5945kB time=00:00:06.01 bitrate=8097.6kbits/s speed=20.3x    \n",
            "video:5843kB audio:94kB subtitle:0kB other streams:0kB global headers:1kB muxing overhead: 0.140138%\n",
            "\u001b[1;36m[aac @ 0x557ea4ccc800] \u001b[0mQavg: 286.415\n"
          ],
          "name": "stdout"
        }
      ]
    },
    {
      "cell_type": "markdown",
      "metadata": {
        "id": "LbtY8v7JarJ2"
      },
      "source": [
        "## panopitc segmentationを実行する。"
      ]
    },
    {
      "cell_type": "code",
      "metadata": {
        "colab": {
          "base_uri": "https://localhost:8080/"
        },
        "id": "zr_Y0_rzRTQm",
        "outputId": "3e8ad0ff-5f57-4798-ee68-731c5c5be4ab"
      },
      "source": [
        "# Run frame-by-frame inference demo on this video (takes 3-4 minutes) with the \"demo.py\" tool we provided in the repo.\n",
        "!git clone https://github.com/facebookresearch/detectron2\n",
        "!python detectron2/demo/demo.py --config-file detectron2/configs/COCO-PanopticSegmentation/panoptic_fpn_R_101_3x.yaml --video-input video-clip.mp4 --confidence-threshold 0.6 --output video-output.mkv \\\n",
        "  --opts MODEL.WEIGHTS detectron2://COCO-PanopticSegmentation/panoptic_fpn_R_101_3x/139514519/model_final_cafdb1.pkl"
      ],
      "execution_count": 45,
      "outputs": [
        {
          "output_type": "stream",
          "text": [
            "fatal: destination path 'detectron2' already exists and is not an empty directory.\n",
            "Failed to load OpenCL runtime\n",
            "** fvcore version of PathManager will be deprecated soon. **\n",
            "** Please migrate to the version in iopath repo. **\n",
            "https://github.com/facebookresearch/iopath \n",
            "\n",
            "** fvcore version of PathManager will be deprecated soon. **\n",
            "** Please migrate to the version in iopath repo. **\n",
            "https://github.com/facebookresearch/iopath \n",
            "\n",
            "\u001b[32m[01/31 08:05:41 detectron2]: \u001b[0mArguments: Namespace(confidence_threshold=0.6, config_file='detectron2/configs/COCO-PanopticSegmentation/panoptic_fpn_R_101_3x.yaml', input=None, opts=['MODEL.WEIGHTS', 'detectron2://COCO-PanopticSegmentation/panoptic_fpn_R_101_3x/139514519/model_final_cafdb1.pkl'], output='video-output.mkv', video_input='video-clip.mp4', webcam=False)\n",
            "\u001b[32m[01/31 08:05:46 fvcore.common.checkpoint]: \u001b[0mLoading checkpoint from detectron2://COCO-PanopticSegmentation/panoptic_fpn_R_101_3x/139514519/model_final_cafdb1.pkl\n",
            "\u001b[32m[01/31 08:05:47 fvcore.common.checkpoint]: \u001b[0mReading a file from 'Detectron2 Model Zoo'\n",
            "  0% 0/182 [00:00<?, ?it/s]/usr/local/lib/python3.6/dist-packages/detectron2/modeling/roi_heads/fast_rcnn.py:124: UserWarning: This overload of nonzero is deprecated:\n",
            "\tnonzero()\n",
            "Consider using one of the following signatures instead:\n",
            "\tnonzero(*, bool as_tuple) (Triggered internally at  /pytorch/torch/csrc/utils/python_arg_parser.cpp:882.)\n",
            "  filter_inds = filter_mask.nonzero()\n",
            " 99% 181/182 [09:31<00:03,  3.16s/it]\n"
          ],
          "name": "stdout"
        }
      ]
    },
    {
      "cell_type": "code",
      "metadata": {
        "colab": {
          "base_uri": "https://localhost:8080/",
          "height": 17
        },
        "id": "hv67zQVXRYwR",
        "outputId": "744dac46-746f-4a24-80a0-6002b4fbfd35"
      },
      "source": [
        "# Download the results\n",
        "from google.colab import files\n",
        "files.download('video-output.mkv')"
      ],
      "execution_count": 46,
      "outputs": [
        {
          "output_type": "display_data",
          "data": {
            "application/javascript": [
              "\n",
              "    async function download(id, filename, size) {\n",
              "      if (!google.colab.kernel.accessAllowed) {\n",
              "        return;\n",
              "      }\n",
              "      const div = document.createElement('div');\n",
              "      const label = document.createElement('label');\n",
              "      label.textContent = `Downloading \"${filename}\": `;\n",
              "      div.appendChild(label);\n",
              "      const progress = document.createElement('progress');\n",
              "      progress.max = size;\n",
              "      div.appendChild(progress);\n",
              "      document.body.appendChild(div);\n",
              "\n",
              "      const buffers = [];\n",
              "      let downloaded = 0;\n",
              "\n",
              "      const channel = await google.colab.kernel.comms.open(id);\n",
              "      // Send a message to notify the kernel that we're ready.\n",
              "      channel.send({})\n",
              "\n",
              "      for await (const message of channel.messages) {\n",
              "        // Send a message to notify the kernel that we're ready.\n",
              "        channel.send({})\n",
              "        if (message.buffers) {\n",
              "          for (const buffer of message.buffers) {\n",
              "            buffers.push(buffer);\n",
              "            downloaded += buffer.byteLength;\n",
              "            progress.value = downloaded;\n",
              "          }\n",
              "        }\n",
              "      }\n",
              "      const blob = new Blob(buffers, {type: 'application/binary'});\n",
              "      const a = document.createElement('a');\n",
              "      a.href = window.URL.createObjectURL(blob);\n",
              "      a.download = filename;\n",
              "      div.appendChild(a);\n",
              "      a.click();\n",
              "      div.remove();\n",
              "    }\n",
              "  "
            ],
            "text/plain": [
              "<IPython.core.display.Javascript object>"
            ]
          },
          "metadata": {
            "tags": []
          }
        },
        {
          "output_type": "display_data",
          "data": {
            "application/javascript": [
              "download(\"download_56c97df3-a62a-49e3-8ea7-2cde41d57711\", \"video-output.mkv\", 8177810)"
            ],
            "text/plain": [
              "<IPython.core.display.Javascript object>"
            ]
          },
          "metadata": {
            "tags": []
          }
        }
      ]
    },
    {
      "cell_type": "markdown",
      "metadata": {
        "id": "He1DEAHdh8Bt"
      },
      "source": [
        "## youtube動画を用いた実験\n",
        "\n"
      ]
    },
    {
      "cell_type": "code",
      "metadata": {
        "colab": {
          "base_uri": "https://localhost:8080/"
        },
        "id": "q8yRVuUHiEcB",
        "outputId": "dfc4c59b-7ffa-4369-d68d-9017eeb290a0"
      },
      "source": [
        "!youtube-dl https://www.youtube.com/watch?v=PVHkKMh_wSM -f 22 -o video.mp4\n",
        "!ffmpeg -i video.mp4 -t 00:00:06 -c:v copy video-clip.mp4"
      ],
      "execution_count": 48,
      "outputs": [
        {
          "output_type": "stream",
          "text": [
            "[youtube] PVHkKMh_wSM: Downloading webpage\n",
            "[youtube] PVHkKMh_wSM: Downloading MPD manifest\n",
            "[download] Destination: video.mp4\n",
            "\u001b[K[download] 100% of 4.69MiB in 00:01\n",
            "ffmpeg version 3.4.8-0ubuntu0.2 Copyright (c) 2000-2020 the FFmpeg developers\n",
            "  built with gcc 7 (Ubuntu 7.5.0-3ubuntu1~18.04)\n",
            "  configuration: --prefix=/usr --extra-version=0ubuntu0.2 --toolchain=hardened --libdir=/usr/lib/x86_64-linux-gnu --incdir=/usr/include/x86_64-linux-gnu --enable-gpl --disable-stripping --enable-avresample --enable-avisynth --enable-gnutls --enable-ladspa --enable-libass --enable-libbluray --enable-libbs2b --enable-libcaca --enable-libcdio --enable-libflite --enable-libfontconfig --enable-libfreetype --enable-libfribidi --enable-libgme --enable-libgsm --enable-libmp3lame --enable-libmysofa --enable-libopenjpeg --enable-libopenmpt --enable-libopus --enable-libpulse --enable-librubberband --enable-librsvg --enable-libshine --enable-libsnappy --enable-libsoxr --enable-libspeex --enable-libssh --enable-libtheora --enable-libtwolame --enable-libvorbis --enable-libvpx --enable-libwavpack --enable-libwebp --enable-libx265 --enable-libxml2 --enable-libxvid --enable-libzmq --enable-libzvbi --enable-omx --enable-openal --enable-opengl --enable-sdl2 --enable-libdc1394 --enable-libdrm --enable-libiec61883 --enable-chromaprint --enable-frei0r --enable-libopencv --enable-libx264 --enable-shared\n",
            "  libavutil      55. 78.100 / 55. 78.100\n",
            "  libavcodec     57.107.100 / 57.107.100\n",
            "  libavformat    57. 83.100 / 57. 83.100\n",
            "  libavdevice    57. 10.100 / 57. 10.100\n",
            "  libavfilter     6.107.100 /  6.107.100\n",
            "  libavresample   3.  7.  0 /  3.  7.  0\n",
            "  libswscale      4.  8.100 /  4.  8.100\n",
            "  libswresample   2.  9.100 /  2.  9.100\n",
            "  libpostproc    54.  7.100 / 54.  7.100\n",
            "Input #0, mov,mp4,m4a,3gp,3g2,mj2, from 'video.mp4':\n",
            "  Metadata:\n",
            "    major_brand     : mp42\n",
            "    minor_version   : 0\n",
            "    compatible_brands: isommp42\n",
            "    encoder         : Google\n",
            "  Duration: 00:00:16.21, start: 0.000000, bitrate: 2426 kb/s\n",
            "    Stream #0:0(und): Video: h264 (High) (avc1 / 0x31637661), yuv420p(tv, bt709), 1280x720 [SAR 1:1 DAR 16:9], 2294 kb/s, 30 fps, 30 tbr, 15360 tbn, 60 tbc (default)\n",
            "    Metadata:\n",
            "      handler_name    : ISO Media file produced by Google Inc.\n",
            "    Stream #0:1(eng): Audio: aac (LC) (mp4a / 0x6134706D), 44100 Hz, stereo, fltp, 127 kb/s (default)\n",
            "    Metadata:\n",
            "      handler_name    : ISO Media file produced by Google Inc.\n",
            "File 'video-clip.mp4' already exists. Overwrite ? [y/N] y\n",
            "Stream mapping:\n",
            "  Stream #0:0 -> #0:0 (copy)\n",
            "  Stream #0:1 -> #0:1 (aac (native) -> aac (native))\n",
            "Press [q] to stop, [?] for help\n",
            "Output #0, mp4, to 'video-clip.mp4':\n",
            "  Metadata:\n",
            "    major_brand     : mp42\n",
            "    minor_version   : 0\n",
            "    compatible_brands: isommp42\n",
            "    encoder         : Lavf57.83.100\n",
            "    Stream #0:0(und): Video: h264 (High) (avc1 / 0x31637661), yuv420p(tv, bt709), 1280x720 [SAR 1:1 DAR 16:9], q=2-31, 2294 kb/s, 30 fps, 30 tbr, 15360 tbn, 15360 tbc (default)\n",
            "    Metadata:\n",
            "      handler_name    : ISO Media file produced by Google Inc.\n",
            "    Stream #0:1(eng): Audio: aac (LC) (mp4a / 0x6134706D), 44100 Hz, stereo, fltp, 128 kb/s (default)\n",
            "    Metadata:\n",
            "      handler_name    : ISO Media file produced by Google Inc.\n",
            "      encoder         : Lavc57.107.100 aac\n",
            "frame=  181 fps=0.0 q=-1.0 Lsize=    1831kB time=00:00:06.01 bitrate=2494.1kbits/s speed= 213x    \n",
            "video:1822kB audio:2kB subtitle:0kB other streams:0kB global headers:0kB muxing overhead: 0.397374%\n",
            "\u001b[1;36m[aac @ 0x5619562be000] \u001b[0mQavg: 65536.000\n"
          ],
          "name": "stdout"
        }
      ]
    },
    {
      "cell_type": "code",
      "metadata": {
        "colab": {
          "base_uri": "https://localhost:8080/"
        },
        "id": "VhSXyigfiVeW",
        "outputId": "8f52eaf0-5d5e-42f5-a9a5-56fea81d0c4d"
      },
      "source": [
        "!python detectron2/demo/demo.py --config-file detectron2/configs/COCO-PanopticSegmentation/panoptic_fpn_R_101_3x.yaml --video-input video-clip.mp4 --confidence-threshold 0.6 --output video-output.mkv \\\n",
        "  --opts MODEL.WEIGHTS detectron2://COCO-PanopticSegmentation/panoptic_fpn_R_101_3x/139514519/model_final_cafdb1.pkl"
      ],
      "execution_count": 50,
      "outputs": [
        {
          "output_type": "stream",
          "text": [
            "Failed to load OpenCL runtime\n",
            "** fvcore version of PathManager will be deprecated soon. **\n",
            "** Please migrate to the version in iopath repo. **\n",
            "https://github.com/facebookresearch/iopath \n",
            "\n",
            "** fvcore version of PathManager will be deprecated soon. **\n",
            "** Please migrate to the version in iopath repo. **\n",
            "https://github.com/facebookresearch/iopath \n",
            "\n",
            "\u001b[32m[01/31 08:23:52 detectron2]: \u001b[0mArguments: Namespace(confidence_threshold=0.6, config_file='detectron2/configs/COCO-PanopticSegmentation/panoptic_fpn_R_101_3x.yaml', input=None, opts=['MODEL.WEIGHTS', 'detectron2://COCO-PanopticSegmentation/panoptic_fpn_R_101_3x/139514519/model_final_cafdb1.pkl'], output='video-output.mkv', video_input='video-clip.mp4', webcam=False)\n",
            "\u001b[32m[01/31 08:23:57 fvcore.common.checkpoint]: \u001b[0mLoading checkpoint from detectron2://COCO-PanopticSegmentation/panoptic_fpn_R_101_3x/139514519/model_final_cafdb1.pkl\n",
            "\u001b[32m[01/31 08:23:57 fvcore.common.checkpoint]: \u001b[0mReading a file from 'Detectron2 Model Zoo'\n",
            "  0% 0/181 [00:00<?, ?it/s]/usr/local/lib/python3.6/dist-packages/detectron2/modeling/roi_heads/fast_rcnn.py:124: UserWarning: This overload of nonzero is deprecated:\n",
            "\tnonzero()\n",
            "Consider using one of the following signatures instead:\n",
            "\tnonzero(*, bool as_tuple) (Triggered internally at  /pytorch/torch/csrc/utils/python_arg_parser.cpp:882.)\n",
            "  filter_inds = filter_mask.nonzero()\n",
            "100% 181/181 [02:37<00:00,  1.15it/s]\n"
          ],
          "name": "stdout"
        }
      ]
    },
    {
      "cell_type": "code",
      "metadata": {
        "colab": {
          "base_uri": "https://localhost:8080/",
          "height": 17
        },
        "id": "7XVf87jJjWnP",
        "outputId": "4e4ef70e-24de-4f18-99e7-e2b1efef45db"
      },
      "source": [
        "# Download the results\n",
        "from google.colab import files\n",
        "files.download('video-output.mkv')"
      ],
      "execution_count": 51,
      "outputs": [
        {
          "output_type": "display_data",
          "data": {
            "application/javascript": [
              "\n",
              "    async function download(id, filename, size) {\n",
              "      if (!google.colab.kernel.accessAllowed) {\n",
              "        return;\n",
              "      }\n",
              "      const div = document.createElement('div');\n",
              "      const label = document.createElement('label');\n",
              "      label.textContent = `Downloading \"${filename}\": `;\n",
              "      div.appendChild(label);\n",
              "      const progress = document.createElement('progress');\n",
              "      progress.max = size;\n",
              "      div.appendChild(progress);\n",
              "      document.body.appendChild(div);\n",
              "\n",
              "      const buffers = [];\n",
              "      let downloaded = 0;\n",
              "\n",
              "      const channel = await google.colab.kernel.comms.open(id);\n",
              "      // Send a message to notify the kernel that we're ready.\n",
              "      channel.send({})\n",
              "\n",
              "      for await (const message of channel.messages) {\n",
              "        // Send a message to notify the kernel that we're ready.\n",
              "        channel.send({})\n",
              "        if (message.buffers) {\n",
              "          for (const buffer of message.buffers) {\n",
              "            buffers.push(buffer);\n",
              "            downloaded += buffer.byteLength;\n",
              "            progress.value = downloaded;\n",
              "          }\n",
              "        }\n",
              "      }\n",
              "      const blob = new Blob(buffers, {type: 'application/binary'});\n",
              "      const a = document.createElement('a');\n",
              "      a.href = window.URL.createObjectURL(blob);\n",
              "      a.download = filename;\n",
              "      div.appendChild(a);\n",
              "      a.click();\n",
              "      div.remove();\n",
              "    }\n",
              "  "
            ],
            "text/plain": [
              "<IPython.core.display.Javascript object>"
            ]
          },
          "metadata": {
            "tags": []
          }
        },
        {
          "output_type": "display_data",
          "data": {
            "application/javascript": [
              "download(\"download_243c8a04-7566-4dd5-9163-5d03d72b6fa5\", \"video-output.mkv\", 3831700)"
            ],
            "text/plain": [
              "<IPython.core.display.Javascript object>"
            ]
          },
          "metadata": {
            "tags": []
          }
        }
      ]
    }
  ]
}