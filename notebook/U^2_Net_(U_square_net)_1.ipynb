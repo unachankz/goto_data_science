{
  "nbformat": 4,
  "nbformat_minor": 0,
  "metadata": {
    "colab": {
      "name": "U^2-Net (U square net)#1.ipynb",
      "provenance": [],
      "collapsed_sections": []
    },
    "kernelspec": {
      "name": "python3",
      "display_name": "Python 3"
    },
    "accelerator": "GPU"
  },
  "cells": [
    {
      "cell_type": "markdown",
      "metadata": {
        "id": "IGZy4DXOG1dp"
      },
      "source": [
        "**This code only followed the readme on NathanUA/U-2-Net**\n",
        "\n",
        "This notbook Objectives:\n",
        "\n",
        "- To try the salient object detection.\n"
      ]
    },
    {
      "cell_type": "code",
      "metadata": {
        "colab": {
          "base_uri": "https://localhost:8080/"
        },
        "id": "M5QDJ6v8Gmtg",
        "outputId": "f8760476-1e1f-401e-805b-747c21d10a5e"
      },
      "source": [
        "!git clone https://github.com/NathanUA/U-2-Net.git\n"
      ],
      "execution_count": 1,
      "outputs": [
        {
          "output_type": "stream",
          "text": [
            "Cloning into 'U-2-Net'...\n",
            "remote: Enumerating objects: 401, done.\u001b[K\n",
            "remote: Total 401 (delta 0), reused 0 (delta 0), pack-reused 401\u001b[K\n",
            "Receiving objects: 100% (401/401), 20.30 MiB | 41.75 MiB/s, done.\n",
            "Resolving deltas: 100% (154/154), done.\n"
          ],
          "name": "stdout"
        }
      ]
    },
    {
      "cell_type": "markdown",
      "metadata": {
        "id": "RiOuoNcaLb4G"
      },
      "source": [
        "\n",
        "Download the pre-trained model u2net.pth (176.3 MB) "
      ]
    },
    {
      "cell_type": "code",
      "metadata": {
        "colab": {
          "base_uri": "https://localhost:8080/"
        },
        "id": "fZl864BeHXht",
        "outputId": "05e04ca9-5de2-47c4-ec02-e8f9ced4ed05"
      },
      "source": [
        "!!gdown --id 1ao1ovG1Qtx4b7EoskHXmi2E9rp5CHLcZ "
      ],
      "execution_count": 2,
      "outputs": [
        {
          "output_type": "execute_result",
          "data": {
            "text/plain": [
              "['Downloading...',\n",
              " 'From: https://drive.google.com/uc?id=1ao1ovG1Qtx4b7EoskHXmi2E9rp5CHLcZ',\n",
              " 'To: /content/u2net.pth',\n",
              " '',\n",
              " '0.00B [00:00, ?B/s]',\n",
              " '7.34MB [00:00, 71.5MB/s]',\n",
              " '26.7MB [00:00, 88.1MB/s]',\n",
              " '59.2MB [00:00, 113MB/s] ',\n",
              " '92.8MB [00:00, 138MB/s]',\n",
              " '112MB [00:00, 144MB/s] ',\n",
              " '134MB [00:00, 161MB/s]',\n",
              " '160MB [00:00, 158MB/s]',\n",
              " '176MB [00:00, 198MB/s]']"
            ]
          },
          "metadata": {
            "tags": []
          },
          "execution_count": 2
        }
      ]
    },
    {
      "cell_type": "markdown",
      "metadata": {
        "id": "tB3g83bqHX0B"
      },
      "source": [
        "Download the pre-trained model u2net.pth (176.3 MB) and put it into the dirctory './saved_models/u2net/' \n"
      ]
    },
    {
      "cell_type": "code",
      "metadata": {
        "id": "AUD5bKwQG8Gk"
      },
      "source": [
        "!mkdir -p ./U-2-Net/saved_models/u2net/\n",
        "!mv u2net.pth ./U-2-Net/saved_models/u2net/"
      ],
      "execution_count": 3,
      "outputs": []
    },
    {
      "cell_type": "markdown",
      "metadata": {
        "id": "mzSWyWWcHYPi"
      },
      "source": [
        "change directory "
      ]
    },
    {
      "cell_type": "code",
      "metadata": {
        "colab": {
          "base_uri": "https://localhost:8080/"
        },
        "id": "VVV_rsdgLXvT",
        "outputId": "d711b386-fd7a-451a-b7bb-13931828a1fc"
      },
      "source": [
        "%cd U-2-Net"
      ],
      "execution_count": 4,
      "outputs": [
        {
          "output_type": "stream",
          "text": [
            "/content/U-2-Net\n"
          ],
          "name": "stdout"
        }
      ]
    },
    {
      "cell_type": "markdown",
      "metadata": {
        "id": "ier-2OYFMf_v"
      },
      "source": [
        "run the inference process by command\n"
      ]
    },
    {
      "cell_type": "code",
      "metadata": {
        "colab": {
          "base_uri": "https://localhost:8080/"
        },
        "id": "RtjERg4dMYaG",
        "outputId": "73d6a33b-a10b-4ad3-87af-3430eca4242d"
      },
      "source": [
        "!python u2net_test.py"
      ],
      "execution_count": 5,
      "outputs": [
        {
          "output_type": "stream",
          "text": [
            "['/content/U-2-Net/test_data/test_images/0003.jpg', '/content/U-2-Net/test_data/test_images/im_01.png', '/content/U-2-Net/test_data/test_images/lamp2_meitu_1.jpg', '/content/U-2-Net/test_data/test_images/rifle1.jpg', '/content/U-2-Net/test_data/test_images/hockey.png', '/content/U-2-Net/test_data/test_images/0002-01.jpg', '/content/U-2-Net/test_data/test_images/im_14.png', '/content/U-2-Net/test_data/test_images/im_27.png', '/content/U-2-Net/test_data/test_images/horse.jpg', '/content/U-2-Net/test_data/test_images/girl.png', '/content/U-2-Net/test_data/test_images/rifle2.jpeg', '/content/U-2-Net/test_data/test_images/long.jpg', '/content/U-2-Net/test_data/test_images/sailboat3.jpg', '/content/U-2-Net/test_data/test_images/bike.jpg', '/content/U-2-Net/test_data/test_images/im_21.png', '/content/U-2-Net/test_data/test_images/whisk.png', '/content/U-2-Net/test_data/test_images/vangogh.jpeg', '/content/U-2-Net/test_data/test_images/boat.jpg']\n",
            "...load U2NET---173.6 MB\n",
            "inferencing: 0003.jpg\n",
            "/usr/local/lib/python3.6/dist-packages/torch/nn/functional.py:2952: UserWarning: nn.functional.upsample is deprecated. Use nn.functional.interpolate instead.\n",
            "  warnings.warn(\"nn.functional.upsample is deprecated. Use nn.functional.interpolate instead.\")\n",
            "/usr/local/lib/python3.6/dist-packages/torch/nn/functional.py:3063: UserWarning: Default upsampling behavior when mode=bilinear is changed to align_corners=False since 0.4.0. Please specify align_corners=True if the old behavior is desired. See the documentation of nn.Upsample for details.\n",
            "  \"See the documentation of nn.Upsample for details.\".format(mode))\n",
            "/usr/local/lib/python3.6/dist-packages/torch/nn/functional.py:1639: UserWarning: nn.functional.sigmoid is deprecated. Use torch.sigmoid instead.\n",
            "  warnings.warn(\"nn.functional.sigmoid is deprecated. Use torch.sigmoid instead.\")\n",
            "inferencing: im_01.png\n",
            "inferencing: lamp2_meitu_1.jpg\n",
            "inferencing: rifle1.jpg\n",
            "inferencing: hockey.png\n",
            "inferencing: 0002-01.jpg\n",
            "inferencing: im_14.png\n",
            "inferencing: im_27.png\n",
            "inferencing: horse.jpg\n",
            "inferencing: girl.png\n",
            "inferencing: rifle2.jpeg\n",
            "inferencing: long.jpg\n",
            "inferencing: sailboat3.jpg\n",
            "inferencing: bike.jpg\n",
            "inferencing: im_21.png\n",
            "inferencing: whisk.png\n",
            "inferencing: vangogh.jpeg\n",
            "inferencing: boat.jpg\n"
          ],
          "name": "stdout"
        }
      ]
    },
    {
      "cell_type": "markdown",
      "metadata": {
        "id": "IUXhDailPkBl"
      },
      "source": [
        "# Run on your own dataset.\n",
        "1) Prepare your images and put them into ./test_data/test_images/\n",
        "\n",
        "2) Run the prediction by command"
      ]
    },
    {
      "cell_type": "code",
      "metadata": {
        "colab": {
          "base_uri": "https://localhost:8080/"
        },
        "id": "EcngIrHRP6pc",
        "outputId": "79779cc1-d7df-4343-ddb1-c393cc15de08"
      },
      "source": [
        "!python u2net_test.py"
      ],
      "execution_count": 6,
      "outputs": [
        {
          "output_type": "stream",
          "text": [
            "['/content/U-2-Net/test_data/test_images/0003.jpg', '/content/U-2-Net/test_data/test_images/im_01.png', '/content/U-2-Net/test_data/test_images/lamp2_meitu_1.jpg', '/content/U-2-Net/test_data/test_images/rifle1.jpg', '/content/U-2-Net/test_data/test_images/hockey.png', '/content/U-2-Net/test_data/test_images/0002-01.jpg', '/content/U-2-Net/test_data/test_images/im_14.png', '/content/U-2-Net/test_data/test_images/im_27.png', '/content/U-2-Net/test_data/test_images/horse.jpg', '/content/U-2-Net/test_data/test_images/girl.png', '/content/U-2-Net/test_data/test_images/rifle2.jpeg', '/content/U-2-Net/test_data/test_images/long.jpg', '/content/U-2-Net/test_data/test_images/sailboat3.jpg', '/content/U-2-Net/test_data/test_images/bike.jpg', '/content/U-2-Net/test_data/test_images/im_21.png', '/content/U-2-Net/test_data/test_images/whisk.png', '/content/U-2-Net/test_data/test_images/vangogh.jpeg', '/content/U-2-Net/test_data/test_images/boat.jpg']\n",
            "...load U2NET---173.6 MB\n",
            "inferencing: 0003.jpg\n",
            "/usr/local/lib/python3.6/dist-packages/torch/nn/functional.py:2952: UserWarning: nn.functional.upsample is deprecated. Use nn.functional.interpolate instead.\n",
            "  warnings.warn(\"nn.functional.upsample is deprecated. Use nn.functional.interpolate instead.\")\n",
            "/usr/local/lib/python3.6/dist-packages/torch/nn/functional.py:3063: UserWarning: Default upsampling behavior when mode=bilinear is changed to align_corners=False since 0.4.0. Please specify align_corners=True if the old behavior is desired. See the documentation of nn.Upsample for details.\n",
            "  \"See the documentation of nn.Upsample for details.\".format(mode))\n",
            "/usr/local/lib/python3.6/dist-packages/torch/nn/functional.py:1639: UserWarning: nn.functional.sigmoid is deprecated. Use torch.sigmoid instead.\n",
            "  warnings.warn(\"nn.functional.sigmoid is deprecated. Use torch.sigmoid instead.\")\n",
            "inferencing: im_01.png\n",
            "inferencing: lamp2_meitu_1.jpg\n",
            "inferencing: rifle1.jpg\n",
            "inferencing: hockey.png\n",
            "inferencing: 0002-01.jpg\n",
            "inferencing: im_14.png\n",
            "inferencing: im_27.png\n",
            "inferencing: horse.jpg\n",
            "inferencing: girl.png\n",
            "inferencing: rifle2.jpeg\n",
            "inferencing: long.jpg\n",
            "inferencing: sailboat3.jpg\n",
            "inferencing: bike.jpg\n",
            "inferencing: im_21.png\n",
            "inferencing: whisk.png\n",
            "inferencing: vangogh.jpeg\n",
            "inferencing: boat.jpg\n"
          ],
          "name": "stdout"
        }
      ]
    }
  ]
}