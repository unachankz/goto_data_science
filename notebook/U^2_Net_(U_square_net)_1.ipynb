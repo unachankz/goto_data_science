{
  "nbformat": 4,
  "nbformat_minor": 0,
  "metadata": {
    "colab": {
      "name": "U^2-Net (U square net)#1.ipynb",
      "provenance": [],
      "collapsed_sections": [],
      "authorship_tag": "ABX9TyNMiHtZQi/wbNB0dz6aw2wb",
      "include_colab_link": true
    },
    "kernelspec": {
      "name": "python3",
      "display_name": "Python 3"
    },
    "accelerator": "GPU"
  },
  "cells": [
    {
      "cell_type": "markdown",
      "metadata": {
        "id": "view-in-github",
        "colab_type": "text"
      },
      "source": [
        "<a href=\"https://colab.research.google.com/github/unachankz/goto_data_science/blob/master/U%5E2_Net_(U_square_net)_1.ipynb\" target=\"_parent\"><img src=\"https://colab.research.google.com/assets/colab-badge.svg\" alt=\"Open In Colab\"/></a>"
      ]
    },
    {
      "cell_type": "markdown",
      "metadata": {
        "id": "IGZy4DXOG1dp"
      },
      "source": [
        "**This code only followed the readme on NathanUA/U-2-Net**\n",
        "\n",
        "This notbook Objectives:\n",
        "\n",
        "- To try the salient object detection.\n"
      ]
    },
    {
      "cell_type": "code",
      "metadata": {
        "colab": {
          "base_uri": "https://localhost:8080/"
        },
        "id": "M5QDJ6v8Gmtg",
        "outputId": "e19dde33-fce2-44f1-8b31-91f8c5632b47"
      },
      "source": [
        "!git clone https://github.com/NathanUA/U-2-Net.git\n"
      ],
      "execution_count": 1,
      "outputs": [
        {
          "output_type": "stream",
          "text": [
            "Cloning into 'U-2-Net'...\n",
            "remote: Enumerating objects: 401, done.\u001b[K\n",
            "remote: Total 401 (delta 0), reused 0 (delta 0), pack-reused 401\u001b[K\n",
            "Receiving objects: 100% (401/401), 20.30 MiB | 42.34 MiB/s, done.\n",
            "Resolving deltas: 100% (154/154), done.\n"
          ],
          "name": "stdout"
        }
      ]
    },
    {
      "cell_type": "markdown",
      "metadata": {
        "id": "RiOuoNcaLb4G"
      },
      "source": [
        "Download the pre-trained model u2net.pth (176.3 MB) "
      ]
    },
    {
      "cell_type": "code",
      "metadata": {
        "colab": {
          "base_uri": "https://localhost:8080/"
        },
        "id": "fZl864BeHXht",
        "outputId": "6bc9eca0-0c3a-4bec-93ae-45fabd909787"
      },
      "source": [
        "!!gdown --id 1ao1ovG1Qtx4b7EoskHXmi2E9rp5CHLcZ "
      ],
      "execution_count": 2,
      "outputs": [
        {
          "output_type": "execute_result",
          "data": {
            "text/plain": [
              "['Downloading...',\n",
              " 'From: https://drive.google.com/uc?id=1ao1ovG1Qtx4b7EoskHXmi2E9rp5CHLcZ',\n",
              " 'To: /content/u2net.pth',\n",
              " '',\n",
              " '0.00B [00:00, ?B/s]',\n",
              " '8.91MB [00:00, 80.0MB/s]',\n",
              " '40.4MB [00:00, 103MB/s] ',\n",
              " '65.5MB [00:00, 125MB/s]',\n",
              " '80.7MB [00:00, 128MB/s]',\n",
              " '110MB [00:00, 154MB/s] ',\n",
              " '129MB [00:00, 156MB/s]',\n",
              " '154MB [00:00, 175MB/s]',\n",
              " '176MB [00:00, 204MB/s]']"
            ]
          },
          "metadata": {
            "tags": []
          },
          "execution_count": 2
        }
      ]
    },
    {
      "cell_type": "markdown",
      "metadata": {
        "id": "tB3g83bqHX0B"
      },
      "source": [
        "Download the pre-trained model u2net.pth (176.3 MB) and put it into the dirctory './saved_models/u2net/' \n"
      ]
    },
    {
      "cell_type": "code",
      "metadata": {
        "id": "AUD5bKwQG8Gk",
        "colab": {
          "base_uri": "https://localhost:8080/"
        },
        "outputId": "e2ce13ba-94af-4c1f-d96b-0c753c5a351c"
      },
      "source": [
        "!mkdir -p /content/U-2-Net/saved_models/u2net/\n",
        "!mv u2net.pth ./saved_models/u2net/"
      ],
      "execution_count": 3,
      "outputs": [
        {
          "output_type": "stream",
          "text": [
            "mv: cannot move 'u2net.pth' to './saved_models/u2net/': No such file or directory\n"
          ],
          "name": "stdout"
        }
      ]
    },
    {
      "cell_type": "markdown",
      "metadata": {
        "id": "mzSWyWWcHYPi"
      },
      "source": [
        "change directory "
      ]
    },
    {
      "cell_type": "code",
      "metadata": {
        "colab": {
          "base_uri": "https://localhost:8080/"
        },
        "id": "VVV_rsdgLXvT",
        "outputId": "96bdf6c5-66d1-444a-faa8-959307de9669"
      },
      "source": [
        "%cd U-2-Net"
      ],
      "execution_count": 4,
      "outputs": [
        {
          "output_type": "stream",
          "text": [
            "/content/U-2-Net\n"
          ],
          "name": "stdout"
        }
      ]
    },
    {
      "cell_type": "markdown",
      "metadata": {
        "id": "ier-2OYFMf_v"
      },
      "source": [
        "run the inference process by command\n"
      ]
    },
    {
      "cell_type": "code",
      "metadata": {
        "colab": {
          "base_uri": "https://localhost:8080/"
        },
        "id": "RtjERg4dMYaG",
        "outputId": "c6b9a35f-7b80-4d5b-9686-c70e91c3c0eb"
      },
      "source": [
        "!python u2net_test.py"
      ],
      "execution_count": 5,
      "outputs": [
        {
          "output_type": "stream",
          "text": [
            "['/content/U-2-Net/test_data/test_images/0003.jpg', '/content/U-2-Net/test_data/test_images/im_01.png', '/content/U-2-Net/test_data/test_images/lamp2_meitu_1.jpg', '/content/U-2-Net/test_data/test_images/rifle1.jpg', '/content/U-2-Net/test_data/test_images/hockey.png', '/content/U-2-Net/test_data/test_images/0002-01.jpg', '/content/U-2-Net/test_data/test_images/im_14.png', '/content/U-2-Net/test_data/test_images/im_27.png', '/content/U-2-Net/test_data/test_images/horse.jpg', '/content/U-2-Net/test_data/test_images/girl.png', '/content/U-2-Net/test_data/test_images/rifle2.jpeg', '/content/U-2-Net/test_data/test_images/long.jpg', '/content/U-2-Net/test_data/test_images/sailboat3.jpg', '/content/U-2-Net/test_data/test_images/bike.jpg', '/content/U-2-Net/test_data/test_images/im_21.png', '/content/U-2-Net/test_data/test_images/whisk.png', '/content/U-2-Net/test_data/test_images/vangogh.jpeg', '/content/U-2-Net/test_data/test_images/boat.jpg']\n",
            "...load U2NET---173.6 MB\n",
            "Traceback (most recent call last):\n",
            "  File \"u2net_test.py\", line 119, in <module>\n",
            "    main()\n",
            "  File \"u2net_test.py\", line 87, in main\n",
            "    net.load_state_dict(torch.load(model_dir))\n",
            "  File \"/usr/local/lib/python3.6/dist-packages/torch/serialization.py\", line 581, in load\n",
            "    with _open_file_like(f, 'rb') as opened_file:\n",
            "  File \"/usr/local/lib/python3.6/dist-packages/torch/serialization.py\", line 230, in _open_file_like\n",
            "    return _open_file(name_or_buffer, mode)\n",
            "  File \"/usr/local/lib/python3.6/dist-packages/torch/serialization.py\", line 211, in __init__\n",
            "    super(_open_file, self).__init__(open(name, mode))\n",
            "FileNotFoundError: [Errno 2] No such file or directory: '/content/U-2-Net/saved_models/u2net/u2net.pth'\n"
          ],
          "name": "stdout"
        }
      ]
    },
    {
      "cell_type": "markdown",
      "metadata": {
        "id": "IUXhDailPkBl"
      },
      "source": [
        "1) Prepare your images and put them into ./test_data/test_images/\n",
        "\n",
        "2) Run the prediction by command"
      ]
    },
    {
      "cell_type": "code",
      "metadata": {
        "colab": {
          "base_uri": "https://localhost:8080/"
        },
        "id": "EcngIrHRP6pc",
        "outputId": "93f5ff4a-4294-4a08-c4a9-c9cbe41ed923"
      },
      "source": [
        "!python u2net_test.py"
      ],
      "execution_count": 6,
      "outputs": [
        {
          "output_type": "stream",
          "text": [
            "['/content/U-2-Net/test_data/test_images/0003.jpg', '/content/U-2-Net/test_data/test_images/im_01.png', '/content/U-2-Net/test_data/test_images/lamp2_meitu_1.jpg', '/content/U-2-Net/test_data/test_images/rifle1.jpg', '/content/U-2-Net/test_data/test_images/hockey.png', '/content/U-2-Net/test_data/test_images/0002-01.jpg', '/content/U-2-Net/test_data/test_images/im_14.png', '/content/U-2-Net/test_data/test_images/im_27.png', '/content/U-2-Net/test_data/test_images/horse.jpg', '/content/U-2-Net/test_data/test_images/girl.png', '/content/U-2-Net/test_data/test_images/rifle2.jpeg', '/content/U-2-Net/test_data/test_images/long.jpg', '/content/U-2-Net/test_data/test_images/sailboat3.jpg', '/content/U-2-Net/test_data/test_images/bike.jpg', '/content/U-2-Net/test_data/test_images/im_21.png', '/content/U-2-Net/test_data/test_images/whisk.png', '/content/U-2-Net/test_data/test_images/vangogh.jpeg', '/content/U-2-Net/test_data/test_images/boat.jpg']\n",
            "...load U2NET---173.6 MB\n",
            "Traceback (most recent call last):\n",
            "  File \"u2net_test.py\", line 119, in <module>\n",
            "    main()\n",
            "  File \"u2net_test.py\", line 87, in main\n",
            "    net.load_state_dict(torch.load(model_dir))\n",
            "  File \"/usr/local/lib/python3.6/dist-packages/torch/serialization.py\", line 581, in load\n",
            "    with _open_file_like(f, 'rb') as opened_file:\n",
            "  File \"/usr/local/lib/python3.6/dist-packages/torch/serialization.py\", line 230, in _open_file_like\n",
            "    return _open_file(name_or_buffer, mode)\n",
            "  File \"/usr/local/lib/python3.6/dist-packages/torch/serialization.py\", line 211, in __init__\n",
            "    super(_open_file, self).__init__(open(name, mode))\n",
            "FileNotFoundError: [Errno 2] No such file or directory: '/content/U-2-Net/saved_models/u2net/u2net.pth'\n"
          ],
          "name": "stdout"
        }
      ]
    }
  ]
}