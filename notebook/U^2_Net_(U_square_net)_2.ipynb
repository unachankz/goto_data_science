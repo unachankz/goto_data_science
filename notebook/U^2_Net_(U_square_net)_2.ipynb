{
  "nbformat": 4,
  "nbformat_minor": 0,
  "metadata": {
    "colab": {
      "name": "U^2-Net (U square net)#2.ipynb",
      "provenance": [],
      "collapsed_sections": [],
      "toc_visible": true,
      "authorship_tag": "ABX9TyPthv9o9WwKcLkpN1tg2qcH",
      "include_colab_link": true
    },
    "kernelspec": {
      "name": "python3",
      "display_name": "Python 3"
    },
    "accelerator": "GPU"
  },
  "cells": [
    {
      "cell_type": "markdown",
      "metadata": {
        "id": "view-in-github",
        "colab_type": "text"
      },
      "source": [
        "<a href=\"https://colab.research.google.com/github/unachankz/goto_data_science/blob/master/notebook/U%5E2_Net_(U_square_net)_2.ipynb\" target=\"_parent\"><img src=\"https://colab.research.google.com/assets/colab-badge.svg\" alt=\"Open In Colab\"/></a>"
      ]
    },
    {
      "cell_type": "markdown",
      "metadata": {
        "id": "e6zVIrm2d70I"
      },
      "source": [
        "# U^2-Net (U square net)\n",
        "\n",
        "The code for our paper **U^2-Net (U square net)** published in Pattern Recognition 2020:\n",
        "## [U^2-Net: Going Deeper with Nested U-Structure for Salient Object Detection](https://arxiv.org/pdf/2005.09007.pdf)\n",
        "\n",
        "# This notbook Objectives:\n",
        "\n",
        "Try U^2-Net for human portrait drawing. "
      ]
    },
    {
      "cell_type": "code",
      "metadata": {
        "colab": {
          "base_uri": "https://localhost:8080/"
        },
        "id": "BW-eF79idrPq",
        "outputId": "571c1d9a-8615-487f-bbea-dedd43e69957"
      },
      "source": [
        "!git clone https://github.com/NathanUA/U-2-Net.git\n"
      ],
      "execution_count": 1,
      "outputs": [
        {
          "output_type": "stream",
          "text": [
            "Cloning into 'U-2-Net'...\n",
            "remote: Enumerating objects: 401, done.\u001b[K\n",
            "remote: Total 401 (delta 0), reused 0 (delta 0), pack-reused 401\u001b[K\n",
            "Receiving objects: 100% (401/401), 20.30 MiB | 40.45 MiB/s, done.\n",
            "Resolving deltas: 100% (154/154), done.\n"
          ],
          "name": "stdout"
        }
      ]
    },
    {
      "cell_type": "markdown",
      "metadata": {
        "id": "C0CWX5cffDOo"
      },
      "source": [
        "Download the u2net_portrait.pth model and put it into the directory: ./saved_models/u2net_portrait/."
      ]
    },
    {
      "cell_type": "code",
      "metadata": {
        "colab": {
          "base_uri": "https://localhost:8080/"
        },
        "id": "FTl2PDcwgC4c",
        "outputId": "fb99d7b1-9019-4c45-8d2e-0718499091ad"
      },
      "source": [
        "!!gdown --id 1IG3HdpcRiDoWNookbncQjeaPN28t90yW"
      ],
      "execution_count": 2,
      "outputs": [
        {
          "output_type": "execute_result",
          "data": {
            "text/plain": [
              "['Downloading...',\n",
              " 'From: https://drive.google.com/uc?id=1IG3HdpcRiDoWNookbncQjeaPN28t90yW',\n",
              " 'To: /content/u2net_portrait.pth',\n",
              " '',\n",
              " '0.00B [00:00, ?B/s]',\n",
              " '13.1MB [00:00, 129MB/s]',\n",
              " '44.0MB [00:00, 156MB/s]',\n",
              " '77.6MB [00:00, 185MB/s]',\n",
              " '111MB [00:00, 213MB/s] ',\n",
              " '133MB [00:00, 163MB/s]',\n",
              " '157MB [00:00, 181MB/s]',\n",
              " '176MB [00:00, 215MB/s]']"
            ]
          },
          "metadata": {
            "tags": []
          },
          "execution_count": 2
        }
      ]
    },
    {
      "cell_type": "code",
      "metadata": {
        "id": "A3cL8bcUgOOd"
      },
      "source": [
        "!mkdir -p U-2-Net/saved_models/u2net_portrait\n",
        "!mv  u2net_portrait.pth U-2-Net/saved_models/u2net_portrait"
      ],
      "execution_count": 3,
      "outputs": []
    },
    {
      "cell_type": "markdown",
      "metadata": {
        "id": "kPH_qiu2iZtO"
      },
      "source": [
        "Download the train and test set from APDrawingGAN."
      ]
    },
    {
      "cell_type": "code",
      "metadata": {
        "colab": {
          "base_uri": "https://localhost:8080/"
        },
        "id": "ktuqqnkNg4Bj",
        "outputId": "ecaeecf0-4da9-4a4d-b88c-485770922467"
      },
      "source": [
        "!gdown --id 1NkTsDDN8VO-JVik6VxXyV-3l2eo29KCk"
      ],
      "execution_count": 4,
      "outputs": [
        {
          "output_type": "stream",
          "text": [
            "Downloading...\n",
            "From: https://drive.google.com/uc?id=1NkTsDDN8VO-JVik6VxXyV-3l2eo29KCk\n",
            "To: /content/APDrawingGAN_test.zip\n",
            "27.0MB [00:00, 86.1MB/s]\n"
          ],
          "name": "stdout"
        }
      ]
    },
    {
      "cell_type": "markdown",
      "metadata": {
        "id": "benIobYpimJy"
      },
      "source": [
        "put them into ./test_data/test_portrait_images/portrait_im/"
      ]
    },
    {
      "cell_type": "code",
      "metadata": {
        "colab": {
          "base_uri": "https://localhost:8080/"
        },
        "id": "EOWg4QpkhWBy",
        "outputId": "1369f150-d4b2-4353-e2a5-d978db257ad3"
      },
      "source": [
        "!unzip /content/APDrawingGAN_test.zip\n",
        "!mv im/* U-2-Net/test_data/test_portrait_images/portrait_im/\n",
        "#!mv gt/* U-2-Net/test_data/test_portrait_images/portrait_im/"
      ],
      "execution_count": 5,
      "outputs": [
        {
          "output_type": "stream",
          "text": [
            "Archive:  /content/APDrawingGAN_test.zip\n",
            "   creating: gt/\n",
            "  inflating: gt/img_1765.png         \n",
            "  inflating: gt/img_1708.png         \n",
            "  inflating: gt/img_1673.png         \n",
            "  inflating: gt/img_1716.png         \n",
            "  inflating: gt/img_1611.png         \n",
            "  inflating: gt/img_1702.png         \n",
            "  inflating: gt/img_1616.png         \n",
            "  inflating: gt/img_1706.png         \n",
            "  inflating: gt/img_1705.png         \n",
            "  inflating: gt/img_1721.png         \n",
            "  inflating: gt/img_1762.png         \n",
            "  inflating: gt/img_1632.png         \n",
            "  inflating: gt/img_1769.png         \n",
            "  inflating: gt/img_1594.png         \n",
            "  inflating: gt/img_1591.png         \n",
            "  inflating: gt/img_1695.png         \n",
            "  inflating: gt/img_1685.png         \n",
            "  inflating: gt/img_1709.png         \n",
            "  inflating: gt/img_1674.png         \n",
            "  inflating: gt/img_1696.png         \n",
            "  inflating: gt/img_1790.png         \n",
            "  inflating: gt/img_1615.png         \n",
            "  inflating: gt/img_1768.png         \n",
            "  inflating: gt/img_1641.png         \n",
            "  inflating: gt/img_1779.png         \n",
            "  inflating: gt/img_1671.png         \n",
            "  inflating: gt/img_1600.png         \n",
            "  inflating: gt/img_1859.png         \n",
            "  inflating: gt/img_1701.png         \n",
            "  inflating: gt/img_1613.png         \n",
            "  inflating: gt/img_1590.png         \n",
            "  inflating: gt/img_1646.png         \n",
            "  inflating: gt/img_1775.png         \n",
            "  inflating: gt/img_1788.png         \n",
            "  inflating: gt/img_1784.png         \n",
            "  inflating: gt/img_1684.png         \n",
            "  inflating: gt/img_1606.png         \n",
            "  inflating: gt/img_1682.png         \n",
            "  inflating: gt/img_1640.png         \n",
            "  inflating: gt/img_1792.png         \n",
            "  inflating: gt/img_1770.png         \n",
            "  inflating: gt/img_1645.png         \n",
            "  inflating: gt/img_1679.png         \n",
            "  inflating: gt/img_1610.png         \n",
            "  inflating: gt/img_1715.png         \n",
            "  inflating: gt/img_1787.png         \n",
            "  inflating: gt/img_1675.png         \n",
            "  inflating: gt/img_1612.png         \n",
            "  inflating: gt/img_1585.png         \n",
            "  inflating: gt/img_1771.png         \n",
            "  inflating: gt/img_1786.png         \n",
            "  inflating: gt/img_1693.png         \n",
            "  inflating: gt/img_1672.png         \n",
            "  inflating: gt/img_1607.png         \n",
            "  inflating: gt/img_1777.png         \n",
            "  inflating: gt/img_1596.png         \n",
            "  inflating: gt/img_1714.png         \n",
            "  inflating: gt/img_1589.png         \n",
            "  inflating: gt/img_1794.png         \n",
            "  inflating: gt/img_1712.png         \n",
            "  inflating: gt/img_1599.png         \n",
            "  inflating: gt/img_1763.png         \n",
            "  inflating: gt/img_1636.png         \n",
            "  inflating: gt/img_1718.png         \n",
            "  inflating: gt/img_1620.png         \n",
            "  inflating: gt/img_1780.png         \n",
            "  inflating: gt/img_1592.png         \n",
            "  inflating: gt/img_1588.png         \n",
            "  inflating: gt/img_1789.png         \n",
            "  inflating: gt/img_1774.png         \n",
            "   creating: im/\n",
            "  inflating: im/img_1765.png         \n",
            "  inflating: im/img_1708.png         \n",
            "  inflating: im/img_1673.png         \n",
            "  inflating: im/img_1716.png         \n",
            "  inflating: im/img_1611.png         \n",
            "  inflating: im/img_1702.png         \n",
            "  inflating: im/img_1616.png         \n",
            "  inflating: im/img_1706.png         \n",
            "  inflating: im/img_1705.png         \n",
            "  inflating: im/img_1721.png         \n",
            "  inflating: im/img_1762.png         \n",
            "  inflating: im/img_1632.png         \n",
            "  inflating: im/img_1769.png         \n",
            "  inflating: im/img_1594.png         \n",
            "  inflating: im/img_1591.png         \n",
            "  inflating: im/img_1695.png         \n",
            "  inflating: im/img_1685.png         \n",
            "  inflating: im/img_1709.png         \n",
            "  inflating: im/img_1674.png         \n",
            "  inflating: im/img_1696.png         \n",
            "  inflating: im/img_1790.png         \n",
            "  inflating: im/img_1615.png         \n",
            "  inflating: im/img_1768.png         \n",
            "  inflating: im/img_1641.png         \n",
            "  inflating: im/img_1779.png         \n",
            "  inflating: im/img_1671.png         \n",
            "  inflating: im/img_1600.png         \n",
            "  inflating: im/img_1859.png         \n",
            "  inflating: im/img_1701.png         \n",
            "  inflating: im/img_1613.png         \n",
            "  inflating: im/img_1590.png         \n",
            "  inflating: im/img_1646.png         \n",
            "  inflating: im/img_1775.png         \n",
            "  inflating: im/img_1788.png         \n",
            "  inflating: im/img_1784.png         \n",
            "  inflating: im/img_1684.png         \n",
            "  inflating: im/img_1606.png         \n",
            "  inflating: im/img_1682.png         \n",
            "  inflating: im/img_1640.png         \n",
            "  inflating: im/img_1792.png         \n",
            "  inflating: im/img_1770.png         \n",
            "  inflating: im/img_1645.png         \n",
            "  inflating: im/img_1679.png         \n",
            "  inflating: im/img_1610.png         \n",
            "  inflating: im/img_1715.png         \n",
            "  inflating: im/img_1787.png         \n",
            "  inflating: im/img_1675.png         \n",
            "  inflating: im/img_1612.png         \n",
            "  inflating: im/img_1585.png         \n",
            "  inflating: im/img_1771.png         \n",
            "  inflating: im/img_1786.png         \n",
            "  inflating: im/img_1693.png         \n",
            "  inflating: im/img_1672.png         \n",
            "  inflating: im/img_1607.png         \n",
            "  inflating: im/img_1777.png         \n",
            "  inflating: im/img_1596.png         \n",
            "  inflating: im/img_1714.png         \n",
            "  inflating: im/img_1589.png         \n",
            "  inflating: im/img_1794.png         \n",
            "  inflating: im/img_1712.png         \n",
            "  inflating: im/img_1599.png         \n",
            "  inflating: im/img_1763.png         \n",
            "  inflating: im/img_1636.png         \n",
            "  inflating: im/img_1718.png         \n",
            "  inflating: im/img_1620.png         \n",
            "  inflating: im/img_1780.png         \n",
            "  inflating: im/img_1592.png         \n",
            "  inflating: im/img_1588.png         \n",
            "  inflating: im/img_1789.png         \n",
            "  inflating: im/img_1774.png         \n"
          ],
          "name": "stdout"
        }
      ]
    },
    {
      "cell_type": "code",
      "metadata": {
        "colab": {
          "base_uri": "https://localhost:8080/"
        },
        "id": "DzyklhGtiReD",
        "outputId": "6206e047-d5b7-4eaa-d0c7-5219567ebab9"
      },
      "source": [
        "%cd U-2-Net/"
      ],
      "execution_count": 6,
      "outputs": [
        {
          "output_type": "stream",
          "text": [
            "/content/U-2-Net\n"
          ],
          "name": "stdout"
        }
      ]
    },
    {
      "cell_type": "markdown",
      "metadata": {
        "id": "IolA5gPCizsS"
      },
      "source": [
        "Running the inference with command python u2net_portrait_test.py will ouptut the results into ./test_data/test_portrait_images/portrait_results."
      ]
    },
    {
      "cell_type": "code",
      "metadata": {
        "colab": {
          "base_uri": "https://localhost:8080/"
        },
        "id": "wEZoZVKLhit4",
        "outputId": "1a499223-046c-4008-8123-a871170dd5fe"
      },
      "source": [
        "!python u2net_portrait_test.py"
      ],
      "execution_count": 7,
      "outputs": [
        {
          "output_type": "stream",
          "text": [
            "Number of images:  70\n",
            "...load U2NET---173.6 MB\n",
            "inferencing: img_1671.png\n",
            "/usr/local/lib/python3.6/dist-packages/torch/nn/functional.py:2952: UserWarning: nn.functional.upsample is deprecated. Use nn.functional.interpolate instead.\n",
            "  warnings.warn(\"nn.functional.upsample is deprecated. Use nn.functional.interpolate instead.\")\n",
            "/usr/local/lib/python3.6/dist-packages/torch/nn/functional.py:3063: UserWarning: Default upsampling behavior when mode=bilinear is changed to align_corners=False since 0.4.0. Please specify align_corners=True if the old behavior is desired. See the documentation of nn.Upsample for details.\n",
            "  \"See the documentation of nn.Upsample for details.\".format(mode))\n",
            "/usr/local/lib/python3.6/dist-packages/torch/nn/functional.py:1639: UserWarning: nn.functional.sigmoid is deprecated. Use torch.sigmoid instead.\n",
            "  warnings.warn(\"nn.functional.sigmoid is deprecated. Use torch.sigmoid instead.\")\n",
            "inferencing: img_1787.png\n",
            "inferencing: img_1775.png\n",
            "inferencing: img_1640.png\n",
            "inferencing: img_1777.png\n",
            "inferencing: img_1789.png\n",
            "inferencing: img_1611.png\n",
            "inferencing: img_1715.png\n",
            "inferencing: img_1696.png\n",
            "inferencing: img_1794.png\n",
            "inferencing: img_1779.png\n",
            "inferencing: img_1675.png\n",
            "inferencing: img_1792.png\n",
            "inferencing: img_1718.png\n",
            "inferencing: img_1770.png\n",
            "inferencing: img_1610.png\n",
            "inferencing: img_1594.png\n",
            "inferencing: img_1788.png\n",
            "inferencing: img_1771.png\n",
            "inferencing: img_1607.png\n",
            "inferencing: img_1673.png\n",
            "inferencing: img_1701.png\n",
            "inferencing: img_1613.png\n",
            "inferencing: img_1708.png\n",
            "inferencing: img_1780.png\n",
            "inferencing: img_1592.png\n",
            "inferencing: img_1674.png\n",
            "inferencing: img_1695.png\n",
            "inferencing: img_1762.png\n",
            "inferencing: img_1685.png\n",
            "inferencing: img_1606.png\n",
            "inferencing: img_1721.png\n",
            "inferencing: img_1616.png\n",
            "inferencing: img_1716.png\n",
            "inferencing: img_1596.png\n",
            "inferencing: img_1636.png\n",
            "inferencing: img_1790.png\n",
            "inferencing: img_1645.png\n",
            "inferencing: img_1585.png\n",
            "inferencing: img_1859.png\n",
            "inferencing: img_1641.png\n",
            "inferencing: img_1620.png\n",
            "inferencing: img_1615.png\n",
            "inferencing: img_1684.png\n",
            "inferencing: img_1600.png\n",
            "inferencing: img_1774.png\n",
            "inferencing: img_1768.png\n",
            "inferencing: img_1714.png\n",
            "inferencing: img_1706.png\n",
            "inferencing: img_1588.png\n",
            "inferencing: img_1672.png\n",
            "inferencing: img_1705.png\n",
            "inferencing: img_1763.png\n",
            "inferencing: img_1765.png\n",
            "inferencing: img_1784.png\n",
            "inferencing: img_1786.png\n",
            "inferencing: img_1599.png\n",
            "inferencing: img_1591.png\n",
            "inferencing: img_1632.png\n",
            "inferencing: img_1769.png\n",
            "inferencing: img_1646.png\n",
            "inferencing: img_1612.png\n",
            "inferencing: img_1693.png\n",
            "inferencing: img_1712.png\n",
            "inferencing: img_1679.png\n",
            "inferencing: img_1702.png\n",
            "inferencing: img_1590.png\n",
            "inferencing: img_1589.png\n",
            "inferencing: img_1709.png\n",
            "inferencing: img_1682.png\n"
          ],
          "name": "stdout"
        }
      ]
    },
    {
      "cell_type": "markdown",
      "metadata": {
        "id": "CIc9IKSoktSK"
      },
      "source": [
        "# Run on your own dataset.\n",
        "\n",
        "1. Prepare your images and put them into ./test_data/test_portrait_images/your_portrait_im/. To obtain enough details of the protrait, human head region in the input image should be close to or larger than 512x512. The head background should be relatively clear.\n",
        "\n",
        "1. Run the prediction by command python u2net_portrait_demo.py will outputs the results to ./test_data/test_portrait_images/your_portrait_results/.\n",
        "1. The difference between python u2net_portrait_demo.py and python u2net_portrait_test.py is that we added a simple face detection step before the portrait generation in u2net_portrait_demo.py. Because the testing set of APDrawingGAN are normalized and cropped to 512x512 for including only heads of humans, while our own dataset may varies with different resolutions and contents. Therefore, the code python u2net_portrait_demo.py will detect the biggest face from the given image and then crop, pad and resize the ROI to 512x512 for feeding to the network. The following figure shows how to take your own photos for generating high quality portraits."
      ]
    },
    {
      "cell_type": "code",
      "metadata": {
        "colab": {
          "base_uri": "https://localhost:8080/"
        },
        "id": "CIsbmK6-iPIx",
        "outputId": "9c6e7dfe-d035-4928-f7a9-c83dc6c2128a"
      },
      "source": [
        "!python u2net_portrait_demo.py"
      ],
      "execution_count": 8,
      "outputs": [
        {
          "output_type": "stream",
          "text": [
            "Number of images:  11\n",
            "--------------------------\n",
            "inferencing  0 / 11 ./test_data/test_portrait_images/your_portrait_im/man2.jpg\n",
            "/usr/local/lib/python3.6/dist-packages/torch/nn/functional.py:2952: UserWarning: nn.functional.upsample is deprecated. Use nn.functional.interpolate instead.\n",
            "  warnings.warn(\"nn.functional.upsample is deprecated. Use nn.functional.interpolate instead.\")\n",
            "/usr/local/lib/python3.6/dist-packages/torch/nn/functional.py:3063: UserWarning: Default upsampling behavior when mode=bilinear is changed to align_corners=False since 0.4.0. Please specify align_corners=True if the old behavior is desired. See the documentation of nn.Upsample for details.\n",
            "  \"See the documentation of nn.Upsample for details.\".format(mode))\n",
            "/usr/local/lib/python3.6/dist-packages/torch/nn/functional.py:1639: UserWarning: nn.functional.sigmoid is deprecated. Use torch.sigmoid instead.\n",
            "  warnings.warn(\"nn.functional.sigmoid is deprecated. Use torch.sigmoid instead.\")\n",
            "--------------------------\n",
            "inferencing  1 / 11 ./test_data/test_portrait_images/your_portrait_im/man5.jpg\n",
            "--------------------------\n",
            "inferencing  2 / 11 ./test_data/test_portrait_images/your_portrait_im/guliNazha3.jpg\n",
            "--------------------------\n",
            "inferencing  3 / 11 ./test_data/test_portrait_images/your_portrait_im/kid1.jpg\n",
            "--------------------------\n",
            "inferencing  4 / 11 ./test_data/test_portrait_images/your_portrait_im/kid2.jpg\n",
            "--------------------------\n",
            "inferencing  5 / 11 ./test_data/test_portrait_images/your_portrait_im/smile.jpg\n",
            "--------------------------\n",
            "inferencing  6 / 11 ./test_data/test_portrait_images/your_portrait_im/man.jpg\n",
            "--------------------------\n",
            "inferencing  7 / 11 ./test_data/test_portrait_images/your_portrait_im/kid3.jpg\n",
            "--------------------------\n",
            "inferencing  8 / 11 ./test_data/test_portrait_images/your_portrait_im/Xuebin-10.jpeg\n",
            "--------------------------\n",
            "inferencing  9 / 11 ./test_data/test_portrait_images/your_portrait_im/GalGadot.jpg\n",
            "--------------------------\n",
            "inferencing  10 / 11 ./test_data/test_portrait_images/your_portrait_im/man4.jpg\n"
          ],
          "name": "stdout"
        }
      ]
    }
  ]
}